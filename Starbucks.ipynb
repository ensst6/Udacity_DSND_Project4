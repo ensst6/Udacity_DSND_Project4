{
 "cells": [
  {
   "cell_type": "markdown",
   "metadata": {},
   "source": [
    "## Portfolio Exercise: Starbucks\n",
    "<br>\n",
    "\n",
    "<img src=\"https://opj.ca/wp-content/uploads/2018/02/New-Starbucks-Logo-1200x969.jpg\" width=\"200\" height=\"200\">\n",
    "<br>\n",
    "<br>\n",
    " \n",
    "#### Background Information\n",
    "\n",
    "The dataset you will be provided in this portfolio exercise was originally used as a take-home assignment provided by Starbucks for their job candidates. The data for this exercise consists of about 120,000 data points split in a 2:1 ratio among training and test files. In the experiment simulated by the data, an advertising promotion was tested to see if it would bring more customers to purchase a specific product priced at $10. Since it costs the company 0.15 to send out each promotion, it would be best to limit that promotion only to those that are most receptive to the promotion. Each data point includes one column indicating whether or not an individual was sent a promotion for the product, and one column indicating whether or not that individual eventually purchased that product. Each individual also has seven additional features associated with them, which are provided abstractly as V1-V7.\n",
    "\n",
    "#### Optimization Strategy\n",
    "\n",
    "Your task is to use the training data to understand what patterns in V1-V7 to indicate that a promotion should be provided to a user. Specifically, your goal is to maximize the following metrics:\n",
    "\n",
    "* **Incremental Response Rate (IRR)** \n",
    "\n",
    "IRR depicts how many more customers purchased the product with the promotion, as compared to if they didn't receive the promotion. Mathematically, it's the ratio of the number of purchasers in the promotion group to the total number of customers in the purchasers group (_treatment_) minus the ratio of the number of purchasers in the non-promotional group to the total number of customers in the non-promotional group (_control_).\n",
    "\n",
    "$$ IRR = \\frac{purch_{treat}}{cust_{treat}} - \\frac{purch_{ctrl}}{cust_{ctrl}} $$\n",
    "\n",
    "\n",
    "* **Net Incremental Revenue (NIR)**\n",
    "\n",
    "NIR depicts how much is made (or lost) by sending out the promotion. Mathematically, this is 10 times the total number of purchasers that received the promotion minus 0.15 times the number of promotions sent out, minus 10 times the number of purchasers who were not given the promotion.\n",
    "\n",
    "$$ NIR = (10\\cdot purch_{treat} - 0.15 \\cdot cust_{treat}) - 10 \\cdot purch_{ctrl}$$\n",
    "\n",
    "For a full description of what Starbucks provides to candidates see the [instructions available here](https://drive.google.com/open?id=18klca9Sef1Rs6q8DW4l7o349r8B70qXM).\n",
    "\n",
    "Below you can find the training data provided.  Explore the data and different optimization strategies.\n",
    "\n",
    "#### How To Test Your Strategy?\n",
    "\n",
    "When you feel like you have an optimization strategy, complete the `promotion_strategy` function to pass to the `test_results` function.  \n",
    "From past data, we know there are four possible outomes:\n",
    "\n",
    "Table of actual promotion vs. predicted promotion customers:  \n",
    "\n",
    "<table>\n",
    "<tr><th></th><th colspan = '2'>Actual</th></tr>\n",
    "<tr><th>Predicted</th><th>Yes</th><th>No</th></tr>\n",
    "<tr><th>Yes</th><td>I</td><td>II</td></tr>\n",
    "<tr><th>No</th><td>III</td><td>IV</td></tr>\n",
    "</table>\n",
    "\n",
    "The metrics are only being compared for the individuals we predict should obtain the promotion – that is, quadrants I and II.  Since the first set of individuals that receive the promotion (in the training set) receive it randomly, we can expect that quadrants I and II will have approximately equivalent participants.  \n",
    "\n",
    "Comparing quadrant I to II then gives an idea of how well your promotion strategy will work in the future. \n",
    "\n",
    "Get started by reading in the data below.  See how each variable or combination of variables along with a promotion influences the chance of purchasing.  When you feel like you have a strategy for who should receive a promotion, test your strategy against the test dataset used in the final `test_results` function."
   ]
  },
  {
   "cell_type": "code",
   "execution_count": 1,
   "metadata": {},
   "outputs": [],
   "source": [
    "# load in packages\n",
    "from itertools import combinations\n",
    "\n",
    "from test_results import test_results, score\n",
    "import numpy as np\n",
    "import pandas as pd\n",
    "import scipy as sp\n",
    "from sklearn.model_selection import train_test_split\n",
    "from sklearn.experimental import enable_halving_search_cv\n",
    "from sklearn.model_selection import HalvingGridSearchCV, GridSearchCV\n",
    "from sklearn.linear_model import LogisticRegression, LogisticRegressionCV\n",
    "from sklearn.svm import SVC\n",
    "from sklearn.compose import ColumnTransformer\n",
    "from sklearn.preprocessing import StandardScaler\n",
    "from sklearn.metrics import classification_report, accuracy_score, confusion_matrix, recall_score, precision_score\n",
    "from sklearn.metrics import roc_auc_score\n",
    "from sklearn.model_selection import cross_validate\n",
    "from statsmodels.stats import proportion as proptests\n",
    "import statsmodels.api as sm\n",
    "from scipy.stats import fisher_exact\n",
    "from xgboost import XGBClassifier\n",
    "\n",
    "import matplotlib.pyplot as plt\n",
    "import seaborn as sb\n",
    "%matplotlib inline\n"
   ]
  },
  {
   "cell_type": "code",
   "execution_count": 2,
   "metadata": {},
   "outputs": [
    {
     "data": {
      "text/html": [
       "<div>\n",
       "<style scoped>\n",
       "    .dataframe tbody tr th:only-of-type {\n",
       "        vertical-align: middle;\n",
       "    }\n",
       "\n",
       "    .dataframe tbody tr th {\n",
       "        vertical-align: top;\n",
       "    }\n",
       "\n",
       "    .dataframe thead th {\n",
       "        text-align: right;\n",
       "    }\n",
       "</style>\n",
       "<table border=\"1\" class=\"dataframe\">\n",
       "  <thead>\n",
       "    <tr style=\"text-align: right;\">\n",
       "      <th></th>\n",
       "      <th>ID</th>\n",
       "      <th>Promotion</th>\n",
       "      <th>purchase</th>\n",
       "      <th>V1</th>\n",
       "      <th>V2</th>\n",
       "      <th>V3</th>\n",
       "      <th>V4</th>\n",
       "      <th>V5</th>\n",
       "      <th>V6</th>\n",
       "      <th>V7</th>\n",
       "    </tr>\n",
       "  </thead>\n",
       "  <tbody>\n",
       "    <tr>\n",
       "      <th>0</th>\n",
       "      <td>1</td>\n",
       "      <td>No</td>\n",
       "      <td>0</td>\n",
       "      <td>2</td>\n",
       "      <td>30.443518</td>\n",
       "      <td>-1.165083</td>\n",
       "      <td>1</td>\n",
       "      <td>1</td>\n",
       "      <td>3</td>\n",
       "      <td>2</td>\n",
       "    </tr>\n",
       "    <tr>\n",
       "      <th>1</th>\n",
       "      <td>3</td>\n",
       "      <td>No</td>\n",
       "      <td>0</td>\n",
       "      <td>3</td>\n",
       "      <td>32.159350</td>\n",
       "      <td>-0.645617</td>\n",
       "      <td>2</td>\n",
       "      <td>3</td>\n",
       "      <td>2</td>\n",
       "      <td>2</td>\n",
       "    </tr>\n",
       "    <tr>\n",
       "      <th>2</th>\n",
       "      <td>4</td>\n",
       "      <td>No</td>\n",
       "      <td>0</td>\n",
       "      <td>2</td>\n",
       "      <td>30.431659</td>\n",
       "      <td>0.133583</td>\n",
       "      <td>1</td>\n",
       "      <td>1</td>\n",
       "      <td>4</td>\n",
       "      <td>2</td>\n",
       "    </tr>\n",
       "    <tr>\n",
       "      <th>3</th>\n",
       "      <td>5</td>\n",
       "      <td>No</td>\n",
       "      <td>0</td>\n",
       "      <td>0</td>\n",
       "      <td>26.588914</td>\n",
       "      <td>-0.212728</td>\n",
       "      <td>2</td>\n",
       "      <td>1</td>\n",
       "      <td>4</td>\n",
       "      <td>2</td>\n",
       "    </tr>\n",
       "    <tr>\n",
       "      <th>4</th>\n",
       "      <td>8</td>\n",
       "      <td>Yes</td>\n",
       "      <td>0</td>\n",
       "      <td>3</td>\n",
       "      <td>28.044331</td>\n",
       "      <td>-0.385883</td>\n",
       "      <td>1</td>\n",
       "      <td>1</td>\n",
       "      <td>2</td>\n",
       "      <td>2</td>\n",
       "    </tr>\n",
       "  </tbody>\n",
       "</table>\n",
       "</div>"
      ],
      "text/plain": [
       "   ID Promotion  purchase  V1         V2        V3  V4  V5  V6  V7\n",
       "0   1        No         0   2  30.443518 -1.165083   1   1   3   2\n",
       "1   3        No         0   3  32.159350 -0.645617   2   3   2   2\n",
       "2   4        No         0   2  30.431659  0.133583   1   1   4   2\n",
       "3   5        No         0   0  26.588914 -0.212728   2   1   4   2\n",
       "4   8       Yes         0   3  28.044331 -0.385883   1   1   2   2"
      ]
     },
     "execution_count": 2,
     "metadata": {},
     "output_type": "execute_result"
    }
   ],
   "source": [
    "# load in the training data\n",
    "train_data = pd.read_csv('./training.csv')\n",
    "train_data.head()"
   ]
  },
  {
   "cell_type": "code",
   "execution_count": 3,
   "metadata": {},
   "outputs": [
    {
     "name": "stdout",
     "output_type": "stream",
     "text": [
      "<class 'pandas.core.frame.DataFrame'>\n",
      "RangeIndex: 84534 entries, 0 to 84533\n",
      "Data columns (total 10 columns):\n",
      " #   Column     Non-Null Count  Dtype  \n",
      "---  ------     --------------  -----  \n",
      " 0   ID         84534 non-null  int64  \n",
      " 1   Promotion  84534 non-null  object \n",
      " 2   purchase   84534 non-null  int64  \n",
      " 3   V1         84534 non-null  int64  \n",
      " 4   V2         84534 non-null  float64\n",
      " 5   V3         84534 non-null  float64\n",
      " 6   V4         84534 non-null  int64  \n",
      " 7   V5         84534 non-null  int64  \n",
      " 8   V6         84534 non-null  int64  \n",
      " 9   V7         84534 non-null  int64  \n",
      "dtypes: float64(2), int64(7), object(1)\n",
      "memory usage: 6.4+ MB\n"
     ]
    }
   ],
   "source": [
    "# Cells for you to work and document as necessary - \n",
    "# definitely feel free to add more cells as you need\n",
    "train_data.info()"
   ]
  },
  {
   "cell_type": "code",
   "execution_count": 4,
   "metadata": {},
   "outputs": [
    {
     "data": {
      "text/html": [
       "<div>\n",
       "<style scoped>\n",
       "    .dataframe tbody tr th:only-of-type {\n",
       "        vertical-align: middle;\n",
       "    }\n",
       "\n",
       "    .dataframe tbody tr th {\n",
       "        vertical-align: top;\n",
       "    }\n",
       "\n",
       "    .dataframe thead th {\n",
       "        text-align: right;\n",
       "    }\n",
       "</style>\n",
       "<table border=\"1\" class=\"dataframe\">\n",
       "  <thead>\n",
       "    <tr style=\"text-align: right;\">\n",
       "      <th></th>\n",
       "      <th>ID</th>\n",
       "      <th>purchase</th>\n",
       "      <th>V1</th>\n",
       "      <th>V2</th>\n",
       "      <th>V3</th>\n",
       "      <th>V4</th>\n",
       "      <th>V5</th>\n",
       "      <th>V6</th>\n",
       "      <th>V7</th>\n",
       "    </tr>\n",
       "  </thead>\n",
       "  <tbody>\n",
       "    <tr>\n",
       "      <th>count</th>\n",
       "      <td>84534.000000</td>\n",
       "      <td>84534.000000</td>\n",
       "      <td>84534.000000</td>\n",
       "      <td>84534.000000</td>\n",
       "      <td>84534.000000</td>\n",
       "      <td>84534.000000</td>\n",
       "      <td>84534.000000</td>\n",
       "      <td>84534.000000</td>\n",
       "      <td>84534.000000</td>\n",
       "    </tr>\n",
       "    <tr>\n",
       "      <th>mean</th>\n",
       "      <td>62970.972413</td>\n",
       "      <td>0.012303</td>\n",
       "      <td>1.500662</td>\n",
       "      <td>29.973600</td>\n",
       "      <td>0.000190</td>\n",
       "      <td>1.679608</td>\n",
       "      <td>2.327643</td>\n",
       "      <td>2.502898</td>\n",
       "      <td>1.701694</td>\n",
       "    </tr>\n",
       "    <tr>\n",
       "      <th>std</th>\n",
       "      <td>36418.440539</td>\n",
       "      <td>0.110234</td>\n",
       "      <td>0.868234</td>\n",
       "      <td>5.010626</td>\n",
       "      <td>1.000485</td>\n",
       "      <td>0.466630</td>\n",
       "      <td>0.841167</td>\n",
       "      <td>1.117349</td>\n",
       "      <td>0.457517</td>\n",
       "    </tr>\n",
       "    <tr>\n",
       "      <th>min</th>\n",
       "      <td>1.000000</td>\n",
       "      <td>0.000000</td>\n",
       "      <td>0.000000</td>\n",
       "      <td>7.104007</td>\n",
       "      <td>-1.684550</td>\n",
       "      <td>1.000000</td>\n",
       "      <td>1.000000</td>\n",
       "      <td>1.000000</td>\n",
       "      <td>1.000000</td>\n",
       "    </tr>\n",
       "    <tr>\n",
       "      <th>25%</th>\n",
       "      <td>31467.250000</td>\n",
       "      <td>0.000000</td>\n",
       "      <td>1.000000</td>\n",
       "      <td>26.591501</td>\n",
       "      <td>-0.905350</td>\n",
       "      <td>1.000000</td>\n",
       "      <td>2.000000</td>\n",
       "      <td>2.000000</td>\n",
       "      <td>1.000000</td>\n",
       "    </tr>\n",
       "    <tr>\n",
       "      <th>50%</th>\n",
       "      <td>62827.500000</td>\n",
       "      <td>0.000000</td>\n",
       "      <td>2.000000</td>\n",
       "      <td>29.979744</td>\n",
       "      <td>-0.039572</td>\n",
       "      <td>2.000000</td>\n",
       "      <td>2.000000</td>\n",
       "      <td>3.000000</td>\n",
       "      <td>2.000000</td>\n",
       "    </tr>\n",
       "    <tr>\n",
       "      <th>75%</th>\n",
       "      <td>94438.750000</td>\n",
       "      <td>0.000000</td>\n",
       "      <td>2.000000</td>\n",
       "      <td>33.344593</td>\n",
       "      <td>0.826206</td>\n",
       "      <td>2.000000</td>\n",
       "      <td>3.000000</td>\n",
       "      <td>4.000000</td>\n",
       "      <td>2.000000</td>\n",
       "    </tr>\n",
       "    <tr>\n",
       "      <th>max</th>\n",
       "      <td>126184.000000</td>\n",
       "      <td>1.000000</td>\n",
       "      <td>3.000000</td>\n",
       "      <td>50.375913</td>\n",
       "      <td>1.691984</td>\n",
       "      <td>2.000000</td>\n",
       "      <td>4.000000</td>\n",
       "      <td>4.000000</td>\n",
       "      <td>2.000000</td>\n",
       "    </tr>\n",
       "  </tbody>\n",
       "</table>\n",
       "</div>"
      ],
      "text/plain": [
       "                  ID      purchase            V1            V2            V3  \\\n",
       "count   84534.000000  84534.000000  84534.000000  84534.000000  84534.000000   \n",
       "mean    62970.972413      0.012303      1.500662     29.973600      0.000190   \n",
       "std     36418.440539      0.110234      0.868234      5.010626      1.000485   \n",
       "min         1.000000      0.000000      0.000000      7.104007     -1.684550   \n",
       "25%     31467.250000      0.000000      1.000000     26.591501     -0.905350   \n",
       "50%     62827.500000      0.000000      2.000000     29.979744     -0.039572   \n",
       "75%     94438.750000      0.000000      2.000000     33.344593      0.826206   \n",
       "max    126184.000000      1.000000      3.000000     50.375913      1.691984   \n",
       "\n",
       "                 V4            V5            V6            V7  \n",
       "count  84534.000000  84534.000000  84534.000000  84534.000000  \n",
       "mean       1.679608      2.327643      2.502898      1.701694  \n",
       "std        0.466630      0.841167      1.117349      0.457517  \n",
       "min        1.000000      1.000000      1.000000      1.000000  \n",
       "25%        1.000000      2.000000      2.000000      1.000000  \n",
       "50%        2.000000      2.000000      3.000000      2.000000  \n",
       "75%        2.000000      3.000000      4.000000      2.000000  \n",
       "max        2.000000      4.000000      4.000000      2.000000  "
      ]
     },
     "execution_count": 4,
     "metadata": {},
     "output_type": "execute_result"
    }
   ],
   "source": [
    "train_data.describe()"
   ]
  },
  {
   "cell_type": "code",
   "execution_count": 5,
   "metadata": {},
   "outputs": [],
   "source": [
    "# can try logistic regression & maybe another ML model\n",
    "# remember to make dummy vars for V1, V4-V7"
   ]
  },
  {
   "cell_type": "code",
   "execution_count": 6,
   "metadata": {},
   "outputs": [
    {
     "name": "stderr",
     "output_type": "stream",
     "text": [
      "/home/umahp/data_science/dsenv/lib/python3.8/site-packages/pandas/core/indexing.py:1637: SettingWithCopyWarning: \n",
      "A value is trying to be set on a copy of a slice from a DataFrame\n",
      "\n",
      "See the caveats in the documentation: https://pandas.pydata.org/pandas-docs/stable/user_guide/indexing.html#returning-a-view-versus-a-copy\n",
      "  self._setitem_single_block(indexer, value, name)\n"
     ]
    }
   ],
   "source": [
    "# recode Promotion\n",
    "train_data['promo_cd'] = 0\n",
    "train_data['promo_cd'].loc[train_data['Promotion']=='Yes'] = 1"
   ]
  },
  {
   "cell_type": "code",
   "execution_count": 7,
   "metadata": {},
   "outputs": [
    {
     "data": {
      "text/plain": [
       "42364"
      ]
     },
     "metadata": {},
     "output_type": "display_data"
    },
    {
     "data": {
      "text/plain": [
       "42364"
      ]
     },
     "metadata": {},
     "output_type": "display_data"
    }
   ],
   "source": [
    "# make sure it worked\n",
    "n_promo = train_data[train_data['Promotion']=='Yes']['Promotion'].count()\n",
    "display(n_promo)\n",
    "display(train_data['promo_cd'].sum())"
   ]
  },
  {
   "cell_type": "markdown",
   "metadata": {},
   "source": [
    "Look at whether the groups are effectively randomized"
   ]
  },
  {
   "cell_type": "code",
   "execution_count": 8,
   "metadata": {},
   "outputs": [
    {
     "data": {
      "text/plain": [
       "0.5011474672912675"
      ]
     },
     "metadata": {},
     "output_type": "display_data"
    }
   ],
   "source": [
    "# are promo groups balanced?\n",
    "size = train_data.shape[0]\n",
    "prop1 = n_promo/size\n",
    "display(prop1)"
   ]
  },
  {
   "cell_type": "code",
   "execution_count": 9,
   "metadata": {},
   "outputs": [
    {
     "data": {
      "text/plain": [
       "0.5068143028294426"
      ]
     },
     "metadata": {},
     "output_type": "display_data"
    }
   ],
   "source": [
    "# test it\n",
    "p_exact = proptests.binom_test(n_promo, size) # defaults to null p = 0.5 & two-sided\n",
    "display(p_exact)"
   ]
  },
  {
   "cell_type": "markdown",
   "metadata": {},
   "source": [
    "Proportions receiving or not receiving the promotion are statistically similar.  \n",
    "Does receipt of promotion increase likelihood of purchase?"
   ]
  },
  {
   "cell_type": "code",
   "execution_count": 10,
   "metadata": {},
   "outputs": [
    {
     "data": {
      "text/plain": [
       "[[41851, 41643], [319, 721]]"
      ]
     },
     "metadata": {},
     "output_type": "display_data"
    },
    {
     "data": {
      "text/plain": [
       "0.007564619397676073"
      ]
     },
     "metadata": {},
     "output_type": "display_data"
    },
    {
     "data": {
      "text/plain": [
       "0.017019167217448776"
      ]
     },
     "metadata": {},
     "output_type": "display_data"
    },
    {
     "data": {
      "text/plain": [
       "(2.2714773590145283, 1.0678851684503813e-36)"
      ]
     },
     "metadata": {},
     "output_type": "display_data"
    }
   ],
   "source": [
    "# does the promotion lead to purchases? (2x2 contingency table)\n",
    "# fisher exact test for 2x2 table\n",
    "count11 = train_data[train_data['promo_cd']==1]['purchase'].sum()\n",
    "count01 = train_data[train_data['promo_cd']==0]['purchase'].sum()\n",
    "count10 = train_data[train_data['promo_cd']==1]['purchase'].count()-count11\n",
    "count00 = train_data[train_data['promo_cd']==0]['purchase'].count()-count01\n",
    "table = [[count00, count10], [count01, count11]]\n",
    "prop_no = count01/(count00+count01)\n",
    "prop_yes = count11/(count10+count11)\n",
    "display(table, prop_no, prop_yes)\n",
    "p_stat = fisher_exact(table, alternative='greater')\n",
    "display(p_stat)"
   ]
  },
  {
   "cell_type": "code",
   "execution_count": 11,
   "metadata": {},
   "outputs": [
    {
     "data": {
      "image/png": "[encoded data removed]",
      "text/plain": [
       "<Figure size 432x288 with 1 Axes>"
      ]
     },
     "metadata": {
      "needs_background": "light"
     },
     "output_type": "display_data"
    }
   ],
   "source": [
    "ind = [1.0, 2.0]\n",
    "plt.bar(ind, [100.0*prop_no, 100.0*prop_yes])\n",
    "plt.xticks(ind, ['No', 'Yes'])\n",
    "plt.xlabel('Promotion')\n",
    "plt.ylabel('% Purchasers')\n",
    "plt.title('Purchases by Promotion');"
   ]
  },
  {
   "cell_type": "markdown",
   "metadata": {},
   "source": [
    "Odd ratio is 2.27, p-value basically zero. Receiving promotion tends to lead to a purchase."
   ]
  },
  {
   "cell_type": "markdown",
   "metadata": {},
   "source": [
    "Check the association between V1-V7 and purchases"
   ]
  },
  {
   "cell_type": "markdown",
   "metadata": {},
   "source": [
    "Calculate the net incremental revenue"
   ]
  },
  {
   "cell_type": "code",
   "execution_count": 12,
   "metadata": {},
   "outputs": [
    {
     "name": "stdout",
     "output_type": "stream",
     "text": [
      "-2334.5999999999995\n"
     ]
    }
   ],
   "source": [
    "NIR = 10.0*count11 - 0.15*(count11+count10) - 10.0*count01\n",
    "print(NIR)"
   ]
  },
  {
   "cell_type": "markdown",
   "metadata": {},
   "source": [
    "So it actually is a net loss b/c so many folks in the treatment group didn't purchase."
   ]
  },
  {
   "cell_type": "markdown",
   "metadata": {},
   "source": [
    "See what incremental response rate looks like"
   ]
  },
  {
   "cell_type": "code",
   "execution_count": 13,
   "metadata": {},
   "outputs": [
    {
     "name": "stdout",
     "output_type": "stream",
     "text": [
      "0.009454547819772702\n"
     ]
    }
   ],
   "source": [
    "IRR = prop_yes - prop_no\n",
    "print(IRR)"
   ]
  },
  {
   "cell_type": "markdown",
   "metadata": {},
   "source": [
    "A tiny increase in proportion in the treatment group. But significant since the control is so small (0.0075)"
   ]
  },
  {
   "cell_type": "code",
   "execution_count": 14,
   "metadata": {},
   "outputs": [],
   "source": [
    "# save it in case I screw this up\n",
    "data_bu = train_data.copy()"
   ]
  },
  {
   "cell_type": "code",
   "execution_count": 15,
   "metadata": {},
   "outputs": [],
   "source": [
    "# make dummies for the categorical variables\n",
    "# preparatory steps\n",
    "train_data['intercept'] = 1 # needs to be manually added for statsmodels regression\n",
    "train_data[['V1_0', 'V1_1', 'V1_2', 'V1_3']] =pd.get_dummies(train_data['V1'])\n",
    "train_data[['V4_1', 'V4_2']] =pd.get_dummies(train_data['V4'])\n",
    "train_data[['V5_1', 'V5_2', 'V5_3', 'V5_4']] =pd.get_dummies(train_data['V5'])\n",
    "train_data[['V6_1', 'V6_2', 'V6_3', 'V6_4']] =pd.get_dummies(train_data['V6'])\n",
    "train_data[['V7_1', 'V7_2']] =pd.get_dummies(train_data['V7'])"
   ]
  },
  {
   "cell_type": "code",
   "execution_count": 16,
   "metadata": {},
   "outputs": [
    {
     "data": {
      "text/html": [
       "<div>\n",
       "<style scoped>\n",
       "    .dataframe tbody tr th:only-of-type {\n",
       "        vertical-align: middle;\n",
       "    }\n",
       "\n",
       "    .dataframe tbody tr th {\n",
       "        vertical-align: top;\n",
       "    }\n",
       "\n",
       "    .dataframe thead th {\n",
       "        text-align: right;\n",
       "    }\n",
       "</style>\n",
       "<table border=\"1\" class=\"dataframe\">\n",
       "  <thead>\n",
       "    <tr style=\"text-align: right;\">\n",
       "      <th></th>\n",
       "      <th>ID</th>\n",
       "      <th>Promotion</th>\n",
       "      <th>purchase</th>\n",
       "      <th>V1</th>\n",
       "      <th>V2</th>\n",
       "      <th>V3</th>\n",
       "      <th>V4</th>\n",
       "      <th>V5</th>\n",
       "      <th>V6</th>\n",
       "      <th>V7</th>\n",
       "      <th>...</th>\n",
       "      <th>V5_1</th>\n",
       "      <th>V5_2</th>\n",
       "      <th>V5_3</th>\n",
       "      <th>V5_4</th>\n",
       "      <th>V6_1</th>\n",
       "      <th>V6_2</th>\n",
       "      <th>V6_3</th>\n",
       "      <th>V6_4</th>\n",
       "      <th>V7_1</th>\n",
       "      <th>V7_2</th>\n",
       "    </tr>\n",
       "  </thead>\n",
       "  <tbody>\n",
       "    <tr>\n",
       "      <th>0</th>\n",
       "      <td>1</td>\n",
       "      <td>No</td>\n",
       "      <td>0</td>\n",
       "      <td>2</td>\n",
       "      <td>30.443518</td>\n",
       "      <td>-1.165083</td>\n",
       "      <td>1</td>\n",
       "      <td>1</td>\n",
       "      <td>3</td>\n",
       "      <td>2</td>\n",
       "      <td>...</td>\n",
       "      <td>1</td>\n",
       "      <td>0</td>\n",
       "      <td>0</td>\n",
       "      <td>0</td>\n",
       "      <td>0</td>\n",
       "      <td>0</td>\n",
       "      <td>1</td>\n",
       "      <td>0</td>\n",
       "      <td>0</td>\n",
       "      <td>1</td>\n",
       "    </tr>\n",
       "    <tr>\n",
       "      <th>1</th>\n",
       "      <td>3</td>\n",
       "      <td>No</td>\n",
       "      <td>0</td>\n",
       "      <td>3</td>\n",
       "      <td>32.159350</td>\n",
       "      <td>-0.645617</td>\n",
       "      <td>2</td>\n",
       "      <td>3</td>\n",
       "      <td>2</td>\n",
       "      <td>2</td>\n",
       "      <td>...</td>\n",
       "      <td>0</td>\n",
       "      <td>0</td>\n",
       "      <td>1</td>\n",
       "      <td>0</td>\n",
       "      <td>0</td>\n",
       "      <td>1</td>\n",
       "      <td>0</td>\n",
       "      <td>0</td>\n",
       "      <td>0</td>\n",
       "      <td>1</td>\n",
       "    </tr>\n",
       "    <tr>\n",
       "      <th>2</th>\n",
       "      <td>4</td>\n",
       "      <td>No</td>\n",
       "      <td>0</td>\n",
       "      <td>2</td>\n",
       "      <td>30.431659</td>\n",
       "      <td>0.133583</td>\n",
       "      <td>1</td>\n",
       "      <td>1</td>\n",
       "      <td>4</td>\n",
       "      <td>2</td>\n",
       "      <td>...</td>\n",
       "      <td>1</td>\n",
       "      <td>0</td>\n",
       "      <td>0</td>\n",
       "      <td>0</td>\n",
       "      <td>0</td>\n",
       "      <td>0</td>\n",
       "      <td>0</td>\n",
       "      <td>1</td>\n",
       "      <td>0</td>\n",
       "      <td>1</td>\n",
       "    </tr>\n",
       "    <tr>\n",
       "      <th>3</th>\n",
       "      <td>5</td>\n",
       "      <td>No</td>\n",
       "      <td>0</td>\n",
       "      <td>0</td>\n",
       "      <td>26.588914</td>\n",
       "      <td>-0.212728</td>\n",
       "      <td>2</td>\n",
       "      <td>1</td>\n",
       "      <td>4</td>\n",
       "      <td>2</td>\n",
       "      <td>...</td>\n",
       "      <td>1</td>\n",
       "      <td>0</td>\n",
       "      <td>0</td>\n",
       "      <td>0</td>\n",
       "      <td>0</td>\n",
       "      <td>0</td>\n",
       "      <td>0</td>\n",
       "      <td>1</td>\n",
       "      <td>0</td>\n",
       "      <td>1</td>\n",
       "    </tr>\n",
       "    <tr>\n",
       "      <th>4</th>\n",
       "      <td>8</td>\n",
       "      <td>Yes</td>\n",
       "      <td>0</td>\n",
       "      <td>3</td>\n",
       "      <td>28.044331</td>\n",
       "      <td>-0.385883</td>\n",
       "      <td>1</td>\n",
       "      <td>1</td>\n",
       "      <td>2</td>\n",
       "      <td>2</td>\n",
       "      <td>...</td>\n",
       "      <td>1</td>\n",
       "      <td>0</td>\n",
       "      <td>0</td>\n",
       "      <td>0</td>\n",
       "      <td>0</td>\n",
       "      <td>1</td>\n",
       "      <td>0</td>\n",
       "      <td>0</td>\n",
       "      <td>0</td>\n",
       "      <td>1</td>\n",
       "    </tr>\n",
       "  </tbody>\n",
       "</table>\n",
       "<p>5 rows × 28 columns</p>\n",
       "</div>"
      ],
      "text/plain": [
       "   ID Promotion  purchase  V1         V2        V3  V4  V5  V6  V7  ...  V5_1  \\\n",
       "0   1        No         0   2  30.443518 -1.165083   1   1   3   2  ...     1   \n",
       "1   3        No         0   3  32.159350 -0.645617   2   3   2   2  ...     0   \n",
       "2   4        No         0   2  30.431659  0.133583   1   1   4   2  ...     1   \n",
       "3   5        No         0   0  26.588914 -0.212728   2   1   4   2  ...     1   \n",
       "4   8       Yes         0   3  28.044331 -0.385883   1   1   2   2  ...     1   \n",
       "\n",
       "   V5_2  V5_3  V5_4  V6_1  V6_2  V6_3  V6_4  V7_1  V7_2  \n",
       "0     0     0     0     0     0     1     0     0     1  \n",
       "1     0     1     0     0     1     0     0     0     1  \n",
       "2     0     0     0     0     0     0     1     0     1  \n",
       "3     0     0     0     0     0     0     1     0     1  \n",
       "4     0     0     0     0     1     0     0     0     1  \n",
       "\n",
       "[5 rows x 28 columns]"
      ]
     },
     "metadata": {},
     "output_type": "display_data"
    }
   ],
   "source": [
    "display(train_data.head())"
   ]
  },
  {
   "cell_type": "markdown",
   "metadata": {},
   "source": [
    "To optimize the metrics the way the test evaluation is set up, I'm going to use the outcome of people who made a purchase **after** getting the promotion.  Based on the way they have us calculating IRR and NIRR on the test data, identifying members of that group should and sending them promotions should maximize the outcomes."
   ]
  },
  {
   "cell_type": "code",
   "execution_count": 17,
   "metadata": {},
   "outputs": [
    {
     "data": {
      "text/plain": [
       "0    83813\n",
       "1      721\n",
       "Name: promo+purch, dtype: int64"
      ]
     },
     "metadata": {},
     "output_type": "display_data"
    }
   ],
   "source": [
    "train_data['promo+purch'] = train_data['purchase']*train_data['promo_cd']\n",
    "display(train_data['promo+purch'].value_counts())"
   ]
  },
  {
   "cell_type": "markdown",
   "metadata": {},
   "source": [
    "Since the instructions seem to imply we shouldn't peek at the test data til we have the final model, make a train-test split of this dataset. The `stratify` option is to keep the same proportions of the outcome variable in the train & test sets."
   ]
  },
  {
   "cell_type": "code",
   "execution_count": 18,
   "metadata": {},
   "outputs": [],
   "source": [
    "# split data; leave out a reference category for each dummy variable\n",
    "# use stratification to maintain same 0/1 ratio \n",
    "X_train, X_test, y_train, y_test = train_test_split(train_data[['purchase', 'promo_cd','intercept', 'V1_1', 'V1_2', 'V1_3', 'V2',\\\n",
    "                                                               'V3', 'V4_2', 'V5_2', 'V5_3', 'V5_4', \\\n",
    "                                                               'V6_2', 'V6_3', 'V6_4', 'V7_2']],\\\n",
    "                                                                train_data['promo+purch'], train_size = 0.667,\\\n",
    "                                                                stratify = train_data['promo+purch'])"
   ]
  },
  {
   "cell_type": "markdown",
   "metadata": {},
   "source": [
    "Do graphical exploration and run a univariate logistic regression model for each variable"
   ]
  },
  {
   "cell_type": "code",
   "execution_count": 54,
   "metadata": {},
   "outputs": [
    {
     "data": {
      "text/html": [
       "<div>\n",
       "<style scoped>\n",
       "    .dataframe tbody tr th:only-of-type {\n",
       "        vertical-align: middle;\n",
       "    }\n",
       "\n",
       "    .dataframe tbody tr th {\n",
       "        vertical-align: top;\n",
       "    }\n",
       "\n",
       "    .dataframe thead th {\n",
       "        text-align: right;\n",
       "    }\n",
       "</style>\n",
       "<table border=\"1\" class=\"dataframe\">\n",
       "  <thead>\n",
       "    <tr style=\"text-align: right;\">\n",
       "      <th></th>\n",
       "      <th>V1</th>\n",
       "      <th>promo+purch</th>\n",
       "    </tr>\n",
       "  </thead>\n",
       "  <tbody>\n",
       "    <tr>\n",
       "      <th>0</th>\n",
       "      <td>0</td>\n",
       "      <td>0.922353</td>\n",
       "    </tr>\n",
       "    <tr>\n",
       "      <th>1</th>\n",
       "      <td>1</td>\n",
       "      <td>0.796687</td>\n",
       "    </tr>\n",
       "    <tr>\n",
       "      <th>2</th>\n",
       "      <td>2</td>\n",
       "      <td>0.955454</td>\n",
       "    </tr>\n",
       "    <tr>\n",
       "      <th>3</th>\n",
       "      <td>3</td>\n",
       "      <td>0.646673</td>\n",
       "    </tr>\n",
       "  </tbody>\n",
       "</table>\n",
       "</div>"
      ],
      "text/plain": [
       "   V1  promo+purch\n",
       "0   0     0.922353\n",
       "1   1     0.796687\n",
       "2   2     0.955454\n",
       "3   3     0.646673"
      ]
     },
     "metadata": {},
     "output_type": "display_data"
    }
   ],
   "source": [
    "v1_promopurch = train_data.groupby(['V1'], as_index=False)[['promo+purch']].mean()\n",
    "v1_promopurch['promo+purch'] = v1_promopurch['promo+purch']*100.0\n",
    "display(v1_promopurch)"
   ]
  },
  {
   "cell_type": "code",
   "execution_count": 55,
   "metadata": {},
   "outputs": [
    {
     "data": {
      "image/png": "[encoded data removed]",
      "text/plain": [
       "<Figure size 432x288 with 1 Axes>"
      ]
     },
     "metadata": {
      "needs_background": "light"
     },
     "output_type": "display_data"
    }
   ],
   "source": [
    "ind = [1.0, 2.0, 3.0, 4.0]\n",
    "plt.bar(ind, v1_promopurch['promo+purch'])\n",
    "plt.xticks(ind, ['0', '1', '2', '3'])\n",
    "plt.xlabel('V1 value')\n",
    "plt.ylabel('% Promo+Purch')\n",
    "plt.title('Promo+Purch by V1');"
   ]
  },
  {
   "cell_type": "code",
   "execution_count": 56,
   "metadata": {},
   "outputs": [
    {
     "name": "stdout",
     "output_type": "stream",
     "text": [
      "Optimization terminated successfully.\n",
      "         Current function value: 0.049036\n",
      "         Iterations 9\n"
     ]
    },
    {
     "data": {
      "text/html": [
       "<table class=\"simpletable\">\n",
       "<tr>\n",
       "        <td>Model:</td>              <td>Logit</td>      <td>Pseudo R-squared:</td>   <td>0.002</td>  \n",
       "</tr>\n",
       "<tr>\n",
       "  <td>Dependent Variable:</td>    <td>promo+purch</td>         <td>AIC:</td>        <td>5537.7380</td>\n",
       "</tr>\n",
       "<tr>\n",
       "         <td>Date:</td>        <td>2021-05-22 16:13</td>       <td>BIC:</td>        <td>5573.4978</td>\n",
       "</tr>\n",
       "<tr>\n",
       "   <td>No. Observations:</td>        <td>56384</td>       <td>Log-Likelihood:</td>   <td>-2764.9</td> \n",
       "</tr>\n",
       "<tr>\n",
       "       <td>Df Model:</td>              <td>3</td>            <td>LL-Null:</td>       <td>-2770.5</td> \n",
       "</tr>\n",
       "<tr>\n",
       "     <td>Df Residuals:</td>          <td>56380</td>        <td>LLR p-value:</td>    <td>0.010763</td> \n",
       "</tr>\n",
       "<tr>\n",
       "      <td>Converged:</td>           <td>1.0000</td>           <td>Scale:</td>        <td>1.0000</td>  \n",
       "</tr>\n",
       "<tr>\n",
       "    <td>No. Iterations:</td>        <td>9.0000</td>              <td></td>              <td></td>     \n",
       "</tr>\n",
       "</table>\n",
       "<table class=\"simpletable\">\n",
       "<tr>\n",
       "      <td></td>       <th>Coef.</th>  <th>Std.Err.</th>     <th>z</th>     <th>P>|z|</th> <th>[0.025</th>  <th>0.975]</th> \n",
       "</tr>\n",
       "<tr>\n",
       "  <th>intercept</th> <td>-4.7066</td>  <td>0.1256</td>  <td>-37.4836</td> <td>0.0000</td> <td>-4.9527</td> <td>-4.4605</td>\n",
       "</tr>\n",
       "<tr>\n",
       "  <th>V1_1</th>      <td>-0.1249</td>  <td>0.1477</td>   <td>-0.8462</td> <td>0.3974</td> <td>-0.4143</td> <td>0.1644</td> \n",
       "</tr>\n",
       "<tr>\n",
       "  <th>V1_2</th>      <td>0.0958</td>   <td>0.1436</td>   <td>0.6674</td>  <td>0.5045</td> <td>-0.1856</td> <td>0.3773</td> \n",
       "</tr>\n",
       "<tr>\n",
       "  <th>V1_3</th>      <td>-0.4040</td>  <td>0.1993</td>   <td>-2.0270</td> <td>0.0427</td> <td>-0.7946</td> <td>-0.0134</td>\n",
       "</tr>\n",
       "</table>"
      ],
      "text/plain": [
       "<class 'statsmodels.iolib.summary2.Summary'>\n",
       "\"\"\"\n",
       "                         Results: Logit\n",
       "================================================================\n",
       "Model:              Logit            Pseudo R-squared: 0.002    \n",
       "Dependent Variable: promo+purch      AIC:              5537.7380\n",
       "Date:               2021-05-22 16:13 BIC:              5573.4978\n",
       "No. Observations:   56384            Log-Likelihood:   -2764.9  \n",
       "Df Model:           3                LL-Null:          -2770.5  \n",
       "Df Residuals:       56380            LLR p-value:      0.010763 \n",
       "Converged:          1.0000           Scale:            1.0000   \n",
       "No. Iterations:     9.0000                                      \n",
       "-----------------------------------------------------------------\n",
       "             Coef.   Std.Err.     z      P>|z|    [0.025   0.975]\n",
       "-----------------------------------------------------------------\n",
       "intercept   -4.7066    0.1256  -37.4836  0.0000  -4.9527  -4.4605\n",
       "V1_1        -0.1249    0.1477   -0.8462  0.3974  -0.4143   0.1644\n",
       "V1_2         0.0958    0.1436    0.6674  0.5045  -0.1856   0.3773\n",
       "V1_3        -0.4040    0.1993   -2.0270  0.0427  -0.7946  -0.0134\n",
       "================================================================\n",
       "\n",
       "\"\"\""
      ]
     },
     "execution_count": 56,
     "metadata": {},
     "output_type": "execute_result"
    }
   ],
   "source": [
    "log1 = sm.Logit(y_train, X_train[['intercept','V1_1', 'V1_2', 'V1_3']])\n",
    "logr1 = log1.fit()\n",
    "logr1.summary2()"
   ]
  },
  {
   "cell_type": "markdown",
   "metadata": {},
   "source": [
    "V1 = 3 is associated with fewer purchases with promotion"
   ]
  },
  {
   "cell_type": "code",
   "execution_count": 57,
   "metadata": {},
   "outputs": [
    {
     "data": {
      "image/png": "[encoded data removed]",
      "text/plain": [
       "<Figure size 432x288 with 1 Axes>"
      ]
     },
     "metadata": {
      "needs_background": "light"
     },
     "output_type": "display_data"
    }
   ],
   "source": [
    "sb.boxplot(data=train_data, x='promo+purch', y='V2', color='brown')\n",
    "plt.ylabel('V2')\n",
    "plt.xlabel('Promo+Purch');"
   ]
  },
  {
   "cell_type": "code",
   "execution_count": 58,
   "metadata": {},
   "outputs": [
    {
     "name": "stdout",
     "output_type": "stream",
     "text": [
      "Optimization terminated successfully.\n",
      "         Current function value: 0.049115\n",
      "         Iterations 9\n"
     ]
    },
    {
     "data": {
      "text/html": [
       "<table class=\"simpletable\">\n",
       "<tr>\n",
       "        <td>Model:</td>              <td>Logit</td>      <td>Pseudo R-squared:</td>   <td>0.000</td>  \n",
       "</tr>\n",
       "<tr>\n",
       "  <td>Dependent Variable:</td>    <td>promo+purch</td>         <td>AIC:</td>        <td>5542.5695</td>\n",
       "</tr>\n",
       "<tr>\n",
       "         <td>Date:</td>        <td>2021-05-22 16:13</td>       <td>BIC:</td>        <td>5560.4493</td>\n",
       "</tr>\n",
       "<tr>\n",
       "   <td>No. Observations:</td>        <td>56384</td>       <td>Log-Likelihood:</td>   <td>-2769.3</td> \n",
       "</tr>\n",
       "<tr>\n",
       "       <td>Df Model:</td>              <td>1</td>            <td>LL-Null:</td>       <td>-2770.5</td> \n",
       "</tr>\n",
       "<tr>\n",
       "     <td>Df Residuals:</td>          <td>56382</td>        <td>LLR p-value:</td>     <td>0.12495</td> \n",
       "</tr>\n",
       "<tr>\n",
       "      <td>Converged:</td>           <td>1.0000</td>           <td>Scale:</td>        <td>1.0000</td>  \n",
       "</tr>\n",
       "<tr>\n",
       "    <td>No. Iterations:</td>        <td>9.0000</td>              <td></td>              <td></td>     \n",
       "</tr>\n",
       "</table>\n",
       "<table class=\"simpletable\">\n",
       "<tr>\n",
       "      <td></td>       <th>Coef.</th>  <th>Std.Err.</th>     <th>z</th>     <th>P>|z|</th> <th>[0.025</th>  <th>0.975]</th> \n",
       "</tr>\n",
       "<tr>\n",
       "  <th>intercept</th> <td>-4.3380</td>  <td>0.2743</td>  <td>-15.8133</td> <td>0.0000</td> <td>-4.8757</td> <td>-3.8004</td>\n",
       "</tr>\n",
       "<tr>\n",
       "  <th>V2</th>        <td>-0.0140</td>  <td>0.0091</td>   <td>-1.5345</td> <td>0.1249</td> <td>-0.0319</td> <td>0.0039</td> \n",
       "</tr>\n",
       "</table>"
      ],
      "text/plain": [
       "<class 'statsmodels.iolib.summary2.Summary'>\n",
       "\"\"\"\n",
       "                         Results: Logit\n",
       "================================================================\n",
       "Model:              Logit            Pseudo R-squared: 0.000    \n",
       "Dependent Variable: promo+purch      AIC:              5542.5695\n",
       "Date:               2021-05-22 16:13 BIC:              5560.4493\n",
       "No. Observations:   56384            Log-Likelihood:   -2769.3  \n",
       "Df Model:           1                LL-Null:          -2770.5  \n",
       "Df Residuals:       56382            LLR p-value:      0.12495  \n",
       "Converged:          1.0000           Scale:            1.0000   \n",
       "No. Iterations:     9.0000                                      \n",
       "-----------------------------------------------------------------\n",
       "             Coef.   Std.Err.     z      P>|z|    [0.025   0.975]\n",
       "-----------------------------------------------------------------\n",
       "intercept   -4.3380    0.2743  -15.8133  0.0000  -4.8757  -3.8004\n",
       "V2          -0.0140    0.0091   -1.5345  0.1249  -0.0319   0.0039\n",
       "================================================================\n",
       "\n",
       "\"\"\""
      ]
     },
     "execution_count": 58,
     "metadata": {},
     "output_type": "execute_result"
    }
   ],
   "source": [
    "log1 = sm.Logit(y_train, X_train[['intercept','V2']])\n",
    "logr1 = log1.fit()\n",
    "logr1.summary2()"
   ]
  },
  {
   "cell_type": "markdown",
   "metadata": {},
   "source": [
    "V2 does not appear to influencing purchase after promotion"
   ]
  },
  {
   "cell_type": "code",
   "execution_count": 59,
   "metadata": {},
   "outputs": [
    {
     "data": {
      "image/png": "[encoded data removed]",
      "text/plain": [
       "<Figure size 432x288 with 1 Axes>"
      ]
     },
     "metadata": {
      "needs_background": "light"
     },
     "output_type": "display_data"
    }
   ],
   "source": [
    "sb.boxplot(data=train_data, x='promo+purch', y='V3', color='brown')\n",
    "plt.ylabel('V3')\n",
    "plt.xlabel('Promo+Purch');"
   ]
  },
  {
   "cell_type": "code",
   "execution_count": 60,
   "metadata": {},
   "outputs": [
    {
     "name": "stdout",
     "output_type": "stream",
     "text": [
      "Optimization terminated successfully.\n",
      "         Current function value: 0.049065\n",
      "         Iterations 9\n"
     ]
    },
    {
     "data": {
      "text/html": [
       "<table class=\"simpletable\">\n",
       "<tr>\n",
       "        <td>Model:</td>              <td>Logit</td>      <td>Pseudo R-squared:</td>   <td>0.001</td>  \n",
       "</tr>\n",
       "<tr>\n",
       "  <td>Dependent Variable:</td>    <td>promo+purch</td>         <td>AIC:</td>        <td>5536.9603</td>\n",
       "</tr>\n",
       "<tr>\n",
       "         <td>Date:</td>        <td>2021-05-22 16:14</td>       <td>BIC:</td>        <td>5554.8402</td>\n",
       "</tr>\n",
       "<tr>\n",
       "   <td>No. Observations:</td>        <td>56384</td>       <td>Log-Likelihood:</td>   <td>-2766.5</td> \n",
       "</tr>\n",
       "<tr>\n",
       "       <td>Df Model:</td>              <td>1</td>            <td>LL-Null:</td>       <td>-2770.5</td> \n",
       "</tr>\n",
       "<tr>\n",
       "     <td>Df Residuals:</td>          <td>56382</td>        <td>LLR p-value:</td>    <td>0.0047735</td>\n",
       "</tr>\n",
       "<tr>\n",
       "      <td>Converged:</td>           <td>1.0000</td>           <td>Scale:</td>        <td>1.0000</td>  \n",
       "</tr>\n",
       "<tr>\n",
       "    <td>No. Iterations:</td>        <td>9.0000</td>              <td></td>              <td></td>     \n",
       "</tr>\n",
       "</table>\n",
       "<table class=\"simpletable\">\n",
       "<tr>\n",
       "      <td></td>       <th>Coef.</th>  <th>Std.Err.</th>     <th>z</th>      <th>P>|z|</th> <th>[0.025</th>  <th>0.975]</th> \n",
       "</tr>\n",
       "<tr>\n",
       "  <th>intercept</th> <td>-4.7637</td>  <td>0.0462</td>  <td>-103.1907</td> <td>0.0000</td> <td>-4.8542</td> <td>-4.6732</td>\n",
       "</tr>\n",
       "<tr>\n",
       "  <th>V3</th>        <td>-0.1294</td>  <td>0.0460</td>   <td>-2.8147</td>  <td>0.0049</td> <td>-0.2196</td> <td>-0.0393</td>\n",
       "</tr>\n",
       "</table>"
      ],
      "text/plain": [
       "<class 'statsmodels.iolib.summary2.Summary'>\n",
       "\"\"\"\n",
       "                         Results: Logit\n",
       "================================================================\n",
       "Model:              Logit            Pseudo R-squared: 0.001    \n",
       "Dependent Variable: promo+purch      AIC:              5536.9603\n",
       "Date:               2021-05-22 16:14 BIC:              5554.8402\n",
       "No. Observations:   56384            Log-Likelihood:   -2766.5  \n",
       "Df Model:           1                LL-Null:          -2770.5  \n",
       "Df Residuals:       56382            LLR p-value:      0.0047735\n",
       "Converged:          1.0000           Scale:            1.0000   \n",
       "No. Iterations:     9.0000                                      \n",
       "-----------------------------------------------------------------\n",
       "            Coef.   Std.Err.      z      P>|z|    [0.025   0.975]\n",
       "-----------------------------------------------------------------\n",
       "intercept  -4.7637    0.0462  -103.1907  0.0000  -4.8542  -4.6732\n",
       "V3         -0.1294    0.0460    -2.8147  0.0049  -0.2196  -0.0393\n",
       "================================================================\n",
       "\n",
       "\"\"\""
      ]
     },
     "execution_count": 60,
     "metadata": {},
     "output_type": "execute_result"
    }
   ],
   "source": [
    "log1 = sm.Logit(y_train, X_train[['intercept','V3']])\n",
    "logr1 = log1.fit()\n",
    "logr1.summary2()"
   ]
  },
  {
   "cell_type": "markdown",
   "metadata": {},
   "source": [
    "A negative value of V3 influences purchase after promotion."
   ]
  },
  {
   "cell_type": "code",
   "execution_count": 61,
   "metadata": {},
   "outputs": [
    {
     "data": {
      "text/html": [
       "<div>\n",
       "<style scoped>\n",
       "    .dataframe tbody tr th:only-of-type {\n",
       "        vertical-align: middle;\n",
       "    }\n",
       "\n",
       "    .dataframe tbody tr th {\n",
       "        vertical-align: top;\n",
       "    }\n",
       "\n",
       "    .dataframe thead th {\n",
       "        text-align: right;\n",
       "    }\n",
       "</style>\n",
       "<table border=\"1\" class=\"dataframe\">\n",
       "  <thead>\n",
       "    <tr style=\"text-align: right;\">\n",
       "      <th></th>\n",
       "      <th>V4</th>\n",
       "      <th>promo+purch</th>\n",
       "    </tr>\n",
       "  </thead>\n",
       "  <tbody>\n",
       "    <tr>\n",
       "      <th>0</th>\n",
       "      <td>1</td>\n",
       "      <td>0.350761</td>\n",
       "    </tr>\n",
       "    <tr>\n",
       "      <th>1</th>\n",
       "      <td>2</td>\n",
       "      <td>1.089643</td>\n",
       "    </tr>\n",
       "  </tbody>\n",
       "</table>\n",
       "</div>"
      ],
      "text/plain": [
       "   V4  promo+purch\n",
       "0   1     0.350761\n",
       "1   2     1.089643"
      ]
     },
     "metadata": {},
     "output_type": "display_data"
    }
   ],
   "source": [
    "v4_promopurch = train_data.groupby(['V4'], as_index=False)[['promo+purch']].mean()\n",
    "v4_promopurch['promo+purch'] = v4_promopurch['promo+purch']*100.0\n",
    "display(v4_promopurch)"
   ]
  },
  {
   "cell_type": "code",
   "execution_count": 62,
   "metadata": {},
   "outputs": [
    {
     "data": {
      "image/png": "[encoded data removed]",
      "text/plain": [
       "<Figure size 432x288 with 1 Axes>"
      ]
     },
     "metadata": {
      "needs_background": "light"
     },
     "output_type": "display_data"
    }
   ],
   "source": [
    "ind = [1.0, 2.0]\n",
    "plt.bar(ind, v4_promopurch['promo+purch'])\n",
    "plt.xticks(ind, ['1', '2'])\n",
    "plt.xlabel('V4 value')\n",
    "plt.ylabel('% Promo+Purch')\n",
    "plt.title('Promo+Purch by V4');"
   ]
  },
  {
   "cell_type": "code",
   "execution_count": 63,
   "metadata": {},
   "outputs": [
    {
     "name": "stdout",
     "output_type": "stream",
     "text": [
      "Optimization terminated successfully.\n",
      "         Current function value: 0.048322\n",
      "         Iterations 10\n"
     ]
    },
    {
     "data": {
      "text/html": [
       "<table class=\"simpletable\">\n",
       "<tr>\n",
       "        <td>Model:</td>              <td>Logit</td>      <td>Pseudo R-squared:</td>    <td>0.017</td>  \n",
       "</tr>\n",
       "<tr>\n",
       "  <td>Dependent Variable:</td>    <td>promo+purch</td>         <td>AIC:</td>         <td>5453.1927</td>\n",
       "</tr>\n",
       "<tr>\n",
       "         <td>Date:</td>        <td>2021-05-22 16:16</td>       <td>BIC:</td>         <td>5471.0726</td>\n",
       "</tr>\n",
       "<tr>\n",
       "   <td>No. Observations:</td>        <td>56384</td>       <td>Log-Likelihood:</td>    <td>-2724.6</td> \n",
       "</tr>\n",
       "<tr>\n",
       "       <td>Df Model:</td>              <td>1</td>            <td>LL-Null:</td>        <td>-2770.5</td> \n",
       "</tr>\n",
       "<tr>\n",
       "     <td>Df Residuals:</td>          <td>56382</td>        <td>LLR p-value:</td>    <td>9.9300e-22</td>\n",
       "</tr>\n",
       "<tr>\n",
       "      <td>Converged:</td>           <td>1.0000</td>           <td>Scale:</td>         <td>1.0000</td>  \n",
       "</tr>\n",
       "<tr>\n",
       "    <td>No. Iterations:</td>        <td>10.0000</td>             <td></td>               <td></td>     \n",
       "</tr>\n",
       "</table>\n",
       "<table class=\"simpletable\">\n",
       "<tr>\n",
       "      <td></td>       <th>Coef.</th>  <th>Std.Err.</th>     <th>z</th>     <th>P>|z|</th> <th>[0.025</th>  <th>0.975]</th> \n",
       "</tr>\n",
       "<tr>\n",
       "  <th>intercept</th> <td>-5.6412</td>  <td>0.1252</td>  <td>-45.0496</td> <td>0.0000</td> <td>-5.8866</td> <td>-5.3958</td>\n",
       "</tr>\n",
       "<tr>\n",
       "  <th>V4_2</th>      <td>1.1324</td>   <td>0.1346</td>   <td>8.4160</td>  <td>0.0000</td> <td>0.8687</td>  <td>1.3961</td> \n",
       "</tr>\n",
       "</table>"
      ],
      "text/plain": [
       "<class 'statsmodels.iolib.summary2.Summary'>\n",
       "\"\"\"\n",
       "                         Results: Logit\n",
       "=================================================================\n",
       "Model:              Logit            Pseudo R-squared: 0.017     \n",
       "Dependent Variable: promo+purch      AIC:              5453.1927 \n",
       "Date:               2021-05-22 16:16 BIC:              5471.0726 \n",
       "No. Observations:   56384            Log-Likelihood:   -2724.6   \n",
       "Df Model:           1                LL-Null:          -2770.5   \n",
       "Df Residuals:       56382            LLR p-value:      9.9300e-22\n",
       "Converged:          1.0000           Scale:            1.0000    \n",
       "No. Iterations:     10.0000                                      \n",
       "------------------------------------------------------------------\n",
       "              Coef.   Std.Err.     z      P>|z|    [0.025   0.975]\n",
       "------------------------------------------------------------------\n",
       "intercept    -5.6412    0.1252  -45.0496  0.0000  -5.8866  -5.3958\n",
       "V4_2          1.1324    0.1346    8.4160  0.0000   0.8687   1.3961\n",
       "=================================================================\n",
       "\n",
       "\"\"\""
      ]
     },
     "execution_count": 63,
     "metadata": {},
     "output_type": "execute_result"
    }
   ],
   "source": [
    "log1 = sm.Logit(y_train, X_train[['intercept','V4_2']])\n",
    "logr1 = log1.fit()\n",
    "logr1.summary2()"
   ]
  },
  {
   "cell_type": "markdown",
   "metadata": {},
   "source": [
    "V4 influences purchases, with a value of 2 associated with more."
   ]
  },
  {
   "cell_type": "code",
   "execution_count": 64,
   "metadata": {},
   "outputs": [
    {
     "data": {
      "text/html": [
       "<div>\n",
       "<style scoped>\n",
       "    .dataframe tbody tr th:only-of-type {\n",
       "        vertical-align: middle;\n",
       "    }\n",
       "\n",
       "    .dataframe tbody tr th {\n",
       "        vertical-align: top;\n",
       "    }\n",
       "\n",
       "    .dataframe thead th {\n",
       "        text-align: right;\n",
       "    }\n",
       "</style>\n",
       "<table border=\"1\" class=\"dataframe\">\n",
       "  <thead>\n",
       "    <tr style=\"text-align: right;\">\n",
       "      <th></th>\n",
       "      <th>V5</th>\n",
       "      <th>promo+purch</th>\n",
       "    </tr>\n",
       "  </thead>\n",
       "  <tbody>\n",
       "    <tr>\n",
       "      <th>0</th>\n",
       "      <td>1</td>\n",
       "      <td>1.025175</td>\n",
       "    </tr>\n",
       "    <tr>\n",
       "      <th>1</th>\n",
       "      <td>2</td>\n",
       "      <td>0.512886</td>\n",
       "    </tr>\n",
       "    <tr>\n",
       "      <th>2</th>\n",
       "      <td>3</td>\n",
       "      <td>1.099472</td>\n",
       "    </tr>\n",
       "    <tr>\n",
       "      <th>3</th>\n",
       "      <td>4</td>\n",
       "      <td>0.829635</td>\n",
       "    </tr>\n",
       "  </tbody>\n",
       "</table>\n",
       "</div>"
      ],
      "text/plain": [
       "   V5  promo+purch\n",
       "0   1     1.025175\n",
       "1   2     0.512886\n",
       "2   3     1.099472\n",
       "3   4     0.829635"
      ]
     },
     "metadata": {},
     "output_type": "display_data"
    }
   ],
   "source": [
    "v5_promopurch = train_data.groupby(['V5'], as_index=False)[['promo+purch']].mean()\n",
    "v5_promopurch['promo+purch'] = v5_promopurch['promo+purch']*100.0\n",
    "display(v5_promopurch)"
   ]
  },
  {
   "cell_type": "code",
   "execution_count": 65,
   "metadata": {},
   "outputs": [
    {
     "data": {
      "image/png": "[encoded data removed]",
      "text/plain": [
       "<Figure size 432x288 with 1 Axes>"
      ]
     },
     "metadata": {
      "needs_background": "light"
     },
     "output_type": "display_data"
    }
   ],
   "source": [
    "ind = [1.0, 2.0, 3.0, 4.0]\n",
    "plt.bar(ind, v5_promopurch['promo+purch'])\n",
    "plt.xticks(ind, ['1', '2', '3', '4'])\n",
    "plt.xlabel('V5 value')\n",
    "plt.ylabel('% Promo+Purch')\n",
    "plt.title('Promo+Purch by V5');"
   ]
  },
  {
   "cell_type": "code",
   "execution_count": 66,
   "metadata": {},
   "outputs": [
    {
     "name": "stdout",
     "output_type": "stream",
     "text": [
      "Optimization terminated successfully.\n",
      "         Current function value: 0.048757\n",
      "         Iterations 9\n"
     ]
    },
    {
     "data": {
      "text/html": [
       "<table class=\"simpletable\">\n",
       "<tr>\n",
       "        <td>Model:</td>              <td>Logit</td>      <td>Pseudo R-squared:</td>    <td>0.008</td>  \n",
       "</tr>\n",
       "<tr>\n",
       "  <td>Dependent Variable:</td>    <td>promo+purch</td>         <td>AIC:</td>         <td>5506.2116</td>\n",
       "</tr>\n",
       "<tr>\n",
       "         <td>Date:</td>        <td>2021-05-22 16:18</td>       <td>BIC:</td>         <td>5541.9713</td>\n",
       "</tr>\n",
       "<tr>\n",
       "   <td>No. Observations:</td>        <td>56384</td>       <td>Log-Likelihood:</td>    <td>-2749.1</td> \n",
       "</tr>\n",
       "<tr>\n",
       "       <td>Df Model:</td>              <td>3</td>            <td>LL-Null:</td>        <td>-2770.5</td> \n",
       "</tr>\n",
       "<tr>\n",
       "     <td>Df Residuals:</td>          <td>56380</td>        <td>LLR p-value:</td>    <td>2.8330e-09</td>\n",
       "</tr>\n",
       "<tr>\n",
       "      <td>Converged:</td>           <td>1.0000</td>           <td>Scale:</td>         <td>1.0000</td>  \n",
       "</tr>\n",
       "<tr>\n",
       "    <td>No. Iterations:</td>        <td>9.0000</td>              <td></td>               <td></td>     \n",
       "</tr>\n",
       "</table>\n",
       "<table class=\"simpletable\">\n",
       "<tr>\n",
       "      <td></td>       <th>Coef.</th>  <th>Std.Err.</th>     <th>z</th>     <th>P>|z|</th> <th>[0.025</th>  <th>0.975]</th> \n",
       "</tr>\n",
       "<tr>\n",
       "  <th>intercept</th> <td>-4.5797</td>  <td>0.0986</td>  <td>-46.4658</td> <td>0.0000</td> <td>-4.7728</td> <td>-4.3865</td>\n",
       "</tr>\n",
       "<tr>\n",
       "  <th>V5_2</th>      <td>-0.6181</td>  <td>0.1359</td>   <td>-4.5497</td> <td>0.0000</td> <td>-0.8844</td> <td>-0.3518</td>\n",
       "</tr>\n",
       "<tr>\n",
       "  <th>V5_3</th>      <td>0.0693</td>   <td>0.1182</td>   <td>0.5858</td>  <td>0.5580</td> <td>-0.1625</td> <td>0.3010</td> \n",
       "</tr>\n",
       "<tr>\n",
       "  <th>V5_4</th>      <td>-0.3353</td>  <td>0.2236</td>   <td>-1.4996</td> <td>0.1337</td> <td>-0.7736</td> <td>0.1029</td> \n",
       "</tr>\n",
       "</table>"
      ],
      "text/plain": [
       "<class 'statsmodels.iolib.summary2.Summary'>\n",
       "\"\"\"\n",
       "                         Results: Logit\n",
       "=================================================================\n",
       "Model:              Logit            Pseudo R-squared: 0.008     \n",
       "Dependent Variable: promo+purch      AIC:              5506.2116 \n",
       "Date:               2021-05-22 16:18 BIC:              5541.9713 \n",
       "No. Observations:   56384            Log-Likelihood:   -2749.1   \n",
       "Df Model:           3                LL-Null:          -2770.5   \n",
       "Df Residuals:       56380            LLR p-value:      2.8330e-09\n",
       "Converged:          1.0000           Scale:            1.0000    \n",
       "No. Iterations:     9.0000                                       \n",
       "------------------------------------------------------------------\n",
       "              Coef.   Std.Err.     z      P>|z|    [0.025   0.975]\n",
       "------------------------------------------------------------------\n",
       "intercept    -4.5797    0.0986  -46.4658  0.0000  -4.7728  -4.3865\n",
       "V5_2         -0.6181    0.1359   -4.5497  0.0000  -0.8844  -0.3518\n",
       "V5_3          0.0693    0.1182    0.5858  0.5580  -0.1625   0.3010\n",
       "V5_4         -0.3353    0.2236   -1.4996  0.1337  -0.7736   0.1029\n",
       "=================================================================\n",
       "\n",
       "\"\"\""
      ]
     },
     "execution_count": 66,
     "metadata": {},
     "output_type": "execute_result"
    }
   ],
   "source": [
    "log1 = sm.Logit(y_train, X_train[['intercept','V5_2', 'V5_3', 'V5_4']])\n",
    "logr1 = log1.fit()\n",
    "logr1.summary2()"
   ]
  },
  {
   "cell_type": "markdown",
   "metadata": {},
   "source": [
    "A V5 value of 2 is associated with fewer purchases after promotion."
   ]
  },
  {
   "cell_type": "code",
   "execution_count": 67,
   "metadata": {},
   "outputs": [
    {
     "data": {
      "text/html": [
       "<div>\n",
       "<style scoped>\n",
       "    .dataframe tbody tr th:only-of-type {\n",
       "        vertical-align: middle;\n",
       "    }\n",
       "\n",
       "    .dataframe tbody tr th {\n",
       "        vertical-align: top;\n",
       "    }\n",
       "\n",
       "    .dataframe thead th {\n",
       "        text-align: right;\n",
       "    }\n",
       "</style>\n",
       "<table border=\"1\" class=\"dataframe\">\n",
       "  <thead>\n",
       "    <tr style=\"text-align: right;\">\n",
       "      <th></th>\n",
       "      <th>V6</th>\n",
       "      <th>promo+purch</th>\n",
       "    </tr>\n",
       "  </thead>\n",
       "  <tbody>\n",
       "    <tr>\n",
       "      <th>0</th>\n",
       "      <td>1</td>\n",
       "      <td>0.889375</td>\n",
       "    </tr>\n",
       "    <tr>\n",
       "      <th>1</th>\n",
       "      <td>2</td>\n",
       "      <td>0.803935</td>\n",
       "    </tr>\n",
       "    <tr>\n",
       "      <th>2</th>\n",
       "      <td>3</td>\n",
       "      <td>0.896819</td>\n",
       "    </tr>\n",
       "    <tr>\n",
       "      <th>3</th>\n",
       "      <td>4</td>\n",
       "      <td>0.821685</td>\n",
       "    </tr>\n",
       "  </tbody>\n",
       "</table>\n",
       "</div>"
      ],
      "text/plain": [
       "   V6  promo+purch\n",
       "0   1     0.889375\n",
       "1   2     0.803935\n",
       "2   3     0.896819\n",
       "3   4     0.821685"
      ]
     },
     "metadata": {},
     "output_type": "display_data"
    }
   ],
   "source": [
    "v6_promopurch = train_data.groupby(['V6'], as_index=False)[['promo+purch']].mean()\n",
    "v6_promopurch['promo+purch'] = v6_promopurch['promo+purch']*100.0\n",
    "display(v6_promopurch)"
   ]
  },
  {
   "cell_type": "code",
   "execution_count": 68,
   "metadata": {},
   "outputs": [
    {
     "data": {
      "image/png": "[encoded data removed]",
      "text/plain": [
       "<Figure size 432x288 with 1 Axes>"
      ]
     },
     "metadata": {
      "needs_background": "light"
     },
     "output_type": "display_data"
    }
   ],
   "source": [
    "ind = [1.0, 2.0, 3.0, 4.0]\n",
    "plt.bar(ind, v6_promopurch['promo+purch'])\n",
    "plt.xticks(ind, ['1', '2', '3', '4'])\n",
    "plt.xlabel('V6 value')\n",
    "plt.ylabel('% Promo+Purch')\n",
    "plt.title('Promo+Purch by V6');"
   ]
  },
  {
   "cell_type": "code",
   "execution_count": 69,
   "metadata": {},
   "outputs": [
    {
     "name": "stdout",
     "output_type": "stream",
     "text": [
      "Optimization terminated successfully.\n",
      "         Current function value: 0.049105\n",
      "         Iterations 9\n"
     ]
    },
    {
     "data": {
      "text/html": [
       "<table class=\"simpletable\">\n",
       "<tr>\n",
       "        <td>Model:</td>              <td>Logit</td>      <td>Pseudo R-squared:</td>   <td>0.001</td>  \n",
       "</tr>\n",
       "<tr>\n",
       "  <td>Dependent Variable:</td>    <td>promo+purch</td>         <td>AIC:</td>        <td>5545.5259</td>\n",
       "</tr>\n",
       "<tr>\n",
       "         <td>Date:</td>        <td>2021-05-22 16:19</td>       <td>BIC:</td>        <td>5581.2857</td>\n",
       "</tr>\n",
       "<tr>\n",
       "   <td>No. Observations:</td>        <td>56384</td>       <td>Log-Likelihood:</td>   <td>-2768.8</td> \n",
       "</tr>\n",
       "<tr>\n",
       "       <td>Df Model:</td>              <td>3</td>            <td>LL-Null:</td>       <td>-2770.5</td> \n",
       "</tr>\n",
       "<tr>\n",
       "     <td>Df Residuals:</td>          <td>56380</td>        <td>LLR p-value:</td>     <td>0.33428</td> \n",
       "</tr>\n",
       "<tr>\n",
       "      <td>Converged:</td>           <td>1.0000</td>           <td>Scale:</td>        <td>1.0000</td>  \n",
       "</tr>\n",
       "<tr>\n",
       "    <td>No. Iterations:</td>        <td>9.0000</td>              <td></td>              <td></td>     \n",
       "</tr>\n",
       "</table>\n",
       "<table class=\"simpletable\">\n",
       "<tr>\n",
       "      <td></td>       <th>Coef.</th>  <th>Std.Err.</th>     <th>z</th>     <th>P>|z|</th> <th>[0.025</th>  <th>0.975]</th> \n",
       "</tr>\n",
       "<tr>\n",
       "  <th>intercept</th> <td>-4.6302</td>  <td>0.0862</td>  <td>-53.7358</td> <td>0.0000</td> <td>-4.7991</td> <td>-4.4613</td>\n",
       "</tr>\n",
       "<tr>\n",
       "  <th>V6_2</th>      <td>-0.1479</td>  <td>0.1267</td>   <td>-1.1676</td> <td>0.2430</td> <td>-0.3962</td> <td>0.1004</td> \n",
       "</tr>\n",
       "<tr>\n",
       "  <th>V6_3</th>      <td>-0.2330</td>  <td>0.1291</td>   <td>-1.8046</td> <td>0.0711</td> <td>-0.4861</td> <td>0.0201</td> \n",
       "</tr>\n",
       "<tr>\n",
       "  <th>V6_4</th>      <td>-0.1332</td>  <td>0.1261</td>   <td>-1.0561</td> <td>0.2909</td> <td>-0.3803</td> <td>0.1140</td> \n",
       "</tr>\n",
       "</table>"
      ],
      "text/plain": [
       "<class 'statsmodels.iolib.summary2.Summary'>\n",
       "\"\"\"\n",
       "                         Results: Logit\n",
       "================================================================\n",
       "Model:              Logit            Pseudo R-squared: 0.001    \n",
       "Dependent Variable: promo+purch      AIC:              5545.5259\n",
       "Date:               2021-05-22 16:19 BIC:              5581.2857\n",
       "No. Observations:   56384            Log-Likelihood:   -2768.8  \n",
       "Df Model:           3                LL-Null:          -2770.5  \n",
       "Df Residuals:       56380            LLR p-value:      0.33428  \n",
       "Converged:          1.0000           Scale:            1.0000   \n",
       "No. Iterations:     9.0000                                      \n",
       "-----------------------------------------------------------------\n",
       "             Coef.   Std.Err.     z      P>|z|    [0.025   0.975]\n",
       "-----------------------------------------------------------------\n",
       "intercept   -4.6302    0.0862  -53.7358  0.0000  -4.7991  -4.4613\n",
       "V6_2        -0.1479    0.1267   -1.1676  0.2430  -0.3962   0.1004\n",
       "V6_3        -0.2330    0.1291   -1.8046  0.0711  -0.4861   0.0201\n",
       "V6_4        -0.1332    0.1261   -1.0561  0.2909  -0.3803   0.1140\n",
       "================================================================\n",
       "\n",
       "\"\"\""
      ]
     },
     "execution_count": 69,
     "metadata": {},
     "output_type": "execute_result"
    }
   ],
   "source": [
    "log1 = sm.Logit(y_train, X_train[['intercept','V6_2', 'V6_3', 'V6_4']])\n",
    "logr1 = log1.fit()\n",
    "logr1.summary2()"
   ]
  },
  {
   "cell_type": "markdown",
   "metadata": {},
   "source": [
    "V6 is not associated with purchasing decisions."
   ]
  },
  {
   "cell_type": "code",
   "execution_count": 70,
   "metadata": {},
   "outputs": [
    {
     "data": {
      "text/html": [
       "<div>\n",
       "<style scoped>\n",
       "    .dataframe tbody tr th:only-of-type {\n",
       "        vertical-align: middle;\n",
       "    }\n",
       "\n",
       "    .dataframe tbody tr th {\n",
       "        vertical-align: top;\n",
       "    }\n",
       "\n",
       "    .dataframe thead th {\n",
       "        text-align: right;\n",
       "    }\n",
       "</style>\n",
       "<table border=\"1\" class=\"dataframe\">\n",
       "  <thead>\n",
       "    <tr style=\"text-align: right;\">\n",
       "      <th></th>\n",
       "      <th>V7</th>\n",
       "      <th>promo+purch</th>\n",
       "    </tr>\n",
       "  </thead>\n",
       "  <tbody>\n",
       "    <tr>\n",
       "      <th>0</th>\n",
       "      <td>1</td>\n",
       "      <td>0.904152</td>\n",
       "    </tr>\n",
       "    <tr>\n",
       "      <th>1</th>\n",
       "      <td>2</td>\n",
       "      <td>0.831128</td>\n",
       "    </tr>\n",
       "  </tbody>\n",
       "</table>\n",
       "</div>"
      ],
      "text/plain": [
       "   V7  promo+purch\n",
       "0   1     0.904152\n",
       "1   2     0.831128"
      ]
     },
     "metadata": {},
     "output_type": "display_data"
    }
   ],
   "source": [
    "v7_promopurch = train_data.groupby(['V7'], as_index=False)[['promo+purch']].mean()\n",
    "v7_promopurch['promo+purch'] = v7_promopurch['promo+purch']*100.0\n",
    "display(v7_promopurch)"
   ]
  },
  {
   "cell_type": "code",
   "execution_count": 71,
   "metadata": {},
   "outputs": [
    {
     "data": {
      "image/png": "[encoded data removed]",
      "text/plain": [
       "<Figure size 432x288 with 1 Axes>"
      ]
     },
     "metadata": {
      "needs_background": "light"
     },
     "output_type": "display_data"
    }
   ],
   "source": [
    "ind = [1.0, 2.0]\n",
    "plt.bar(ind, v7_promopurch['promo+purch'])\n",
    "plt.xticks(ind, ['1', '2'])\n",
    "plt.xlabel('V7 value')\n",
    "plt.ylabel('% Promo+Purch')\n",
    "plt.title('Promo+Purch by V7');"
   ]
  },
  {
   "cell_type": "code",
   "execution_count": 72,
   "metadata": {},
   "outputs": [
    {
     "name": "stdout",
     "output_type": "stream",
     "text": [
      "Optimization terminated successfully.\n",
      "         Current function value: 0.049134\n",
      "         Iterations 9\n"
     ]
    },
    {
     "data": {
      "text/html": [
       "<table class=\"simpletable\">\n",
       "<tr>\n",
       "        <td>Model:</td>              <td>Logit</td>      <td>Pseudo R-squared:</td>   <td>0.000</td>  \n",
       "</tr>\n",
       "<tr>\n",
       "  <td>Dependent Variable:</td>    <td>promo+purch</td>         <td>AIC:</td>        <td>5544.7389</td>\n",
       "</tr>\n",
       "<tr>\n",
       "         <td>Date:</td>        <td>2021-05-22 16:20</td>       <td>BIC:</td>        <td>5562.6188</td>\n",
       "</tr>\n",
       "<tr>\n",
       "   <td>No. Observations:</td>        <td>56384</td>       <td>Log-Likelihood:</td>   <td>-2770.4</td> \n",
       "</tr>\n",
       "<tr>\n",
       "       <td>Df Model:</td>              <td>1</td>            <td>LL-Null:</td>       <td>-2770.5</td> \n",
       "</tr>\n",
       "<tr>\n",
       "     <td>Df Residuals:</td>          <td>56382</td>        <td>LLR p-value:</td>     <td>0.66739</td> \n",
       "</tr>\n",
       "<tr>\n",
       "      <td>Converged:</td>           <td>1.0000</td>           <td>Scale:</td>        <td>1.0000</td>  \n",
       "</tr>\n",
       "<tr>\n",
       "    <td>No. Iterations:</td>        <td>9.0000</td>              <td></td>              <td></td>     \n",
       "</tr>\n",
       "</table>\n",
       "<table class=\"simpletable\">\n",
       "<tr>\n",
       "      <td></td>       <th>Coef.</th>  <th>Std.Err.</th>     <th>z</th>     <th>P>|z|</th> <th>[0.025</th>  <th>0.975]</th> \n",
       "</tr>\n",
       "<tr>\n",
       "  <th>intercept</th> <td>-4.7257</td>  <td>0.0826</td>  <td>-57.2376</td> <td>0.0000</td> <td>-4.8875</td> <td>-4.5639</td>\n",
       "</tr>\n",
       "<tr>\n",
       "  <th>V7_2</th>      <td>-0.0428</td>  <td>0.0992</td>   <td>-0.4309</td> <td>0.6665</td> <td>-0.2372</td> <td>0.1517</td> \n",
       "</tr>\n",
       "</table>"
      ],
      "text/plain": [
       "<class 'statsmodels.iolib.summary2.Summary'>\n",
       "\"\"\"\n",
       "                         Results: Logit\n",
       "================================================================\n",
       "Model:              Logit            Pseudo R-squared: 0.000    \n",
       "Dependent Variable: promo+purch      AIC:              5544.7389\n",
       "Date:               2021-05-22 16:20 BIC:              5562.6188\n",
       "No. Observations:   56384            Log-Likelihood:   -2770.4  \n",
       "Df Model:           1                LL-Null:          -2770.5  \n",
       "Df Residuals:       56382            LLR p-value:      0.66739  \n",
       "Converged:          1.0000           Scale:            1.0000   \n",
       "No. Iterations:     9.0000                                      \n",
       "-----------------------------------------------------------------\n",
       "             Coef.   Std.Err.     z      P>|z|    [0.025   0.975]\n",
       "-----------------------------------------------------------------\n",
       "intercept   -4.7257    0.0826  -57.2376  0.0000  -4.8875  -4.5639\n",
       "V7_2        -0.0428    0.0992   -0.4309  0.6665  -0.2372   0.1517\n",
       "================================================================\n",
       "\n",
       "\"\"\""
      ]
     },
     "execution_count": 72,
     "metadata": {},
     "output_type": "execute_result"
    }
   ],
   "source": [
    "log1 = sm.Logit(y_train, X_train[['intercept','V7_2']])\n",
    "logr1 = log1.fit()\n",
    "logr1.summary2()"
   ]
  },
  {
   "cell_type": "markdown",
   "metadata": {},
   "source": [
    "V7 is not associated with purchasing decisions."
   ]
  },
  {
   "cell_type": "markdown",
   "metadata": {},
   "source": [
    "Make a multivariate logistic regression model to see if all of the variables remain significant in each other's presence."
   ]
  },
  {
   "cell_type": "code",
   "execution_count": 90,
   "metadata": {},
   "outputs": [
    {
     "name": "stdout",
     "output_type": "stream",
     "text": [
      "Optimization terminated successfully.\n",
      "         Current function value: 0.047847\n",
      "         Iterations 10\n"
     ]
    },
    {
     "data": {
      "text/html": [
       "<table class=\"simpletable\">\n",
       "<tr>\n",
       "        <td>Model:</td>              <td>Logit</td>      <td>Pseudo R-squared:</td>    <td>0.026</td>  \n",
       "</tr>\n",
       "<tr>\n",
       "  <td>Dependent Variable:</td>    <td>promo+purch</td>         <td>AIC:</td>         <td>5405.6489</td>\n",
       "</tr>\n",
       "<tr>\n",
       "         <td>Date:</td>        <td>2021-05-22 16:27</td>       <td>BIC:</td>         <td>5450.3486</td>\n",
       "</tr>\n",
       "<tr>\n",
       "   <td>No. Observations:</td>        <td>56384</td>       <td>Log-Likelihood:</td>    <td>-2697.8</td> \n",
       "</tr>\n",
       "<tr>\n",
       "       <td>Df Model:</td>              <td>4</td>            <td>LL-Null:</td>        <td>-2770.5</td> \n",
       "</tr>\n",
       "<tr>\n",
       "     <td>Df Residuals:</td>          <td>56379</td>        <td>LLR p-value:</td>    <td>2.0945e-30</td>\n",
       "</tr>\n",
       "<tr>\n",
       "      <td>Converged:</td>           <td>1.0000</td>           <td>Scale:</td>         <td>1.0000</td>  \n",
       "</tr>\n",
       "<tr>\n",
       "    <td>No. Iterations:</td>        <td>10.0000</td>             <td></td>               <td></td>     \n",
       "</tr>\n",
       "</table>\n",
       "<table class=\"simpletable\">\n",
       "<tr>\n",
       "      <td></td>       <th>Coef.</th>  <th>Std.Err.</th>     <th>z</th>     <th>P>|z|</th> <th>[0.025</th>  <th>0.975]</th> \n",
       "</tr>\n",
       "<tr>\n",
       "  <th>intercept</th> <td>-5.4174</td>  <td>0.1287</td>  <td>-42.0826</td> <td>0.0000</td> <td>-5.6697</td> <td>-5.1651</td>\n",
       "</tr>\n",
       "<tr>\n",
       "  <th>V1_3</th>      <td>-0.4018</td>  <td>0.1622</td>   <td>-2.4776</td> <td>0.0132</td> <td>-0.7196</td> <td>-0.0839</td>\n",
       "</tr>\n",
       "<tr>\n",
       "  <th>V3</th>        <td>-0.1323</td>  <td>0.0461</td>   <td>-2.8713</td> <td>0.0041</td> <td>-0.2226</td> <td>-0.0420</td>\n",
       "</tr>\n",
       "<tr>\n",
       "  <th>V4_2</th>      <td>1.1349</td>   <td>0.1346</td>   <td>8.4320</td>  <td>0.0000</td> <td>0.8711</td>  <td>1.3987</td> \n",
       "</tr>\n",
       "<tr>\n",
       "  <th>V5_2</th>      <td>-0.6339</td>  <td>0.1073</td>   <td>-5.9063</td> <td>0.0000</td> <td>-0.8443</td> <td>-0.4236</td>\n",
       "</tr>\n",
       "</table>"
      ],
      "text/plain": [
       "<class 'statsmodels.iolib.summary2.Summary'>\n",
       "\"\"\"\n",
       "                         Results: Logit\n",
       "=================================================================\n",
       "Model:              Logit            Pseudo R-squared: 0.026     \n",
       "Dependent Variable: promo+purch      AIC:              5405.6489 \n",
       "Date:               2021-05-22 16:27 BIC:              5450.3486 \n",
       "No. Observations:   56384            Log-Likelihood:   -2697.8   \n",
       "Df Model:           4                LL-Null:          -2770.5   \n",
       "Df Residuals:       56379            LLR p-value:      2.0945e-30\n",
       "Converged:          1.0000           Scale:            1.0000    \n",
       "No. Iterations:     10.0000                                      \n",
       "------------------------------------------------------------------\n",
       "              Coef.   Std.Err.     z      P>|z|    [0.025   0.975]\n",
       "------------------------------------------------------------------\n",
       "intercept    -5.4174    0.1287  -42.0826  0.0000  -5.6697  -5.1651\n",
       "V1_3         -0.4018    0.1622   -2.4776  0.0132  -0.7196  -0.0839\n",
       "V3           -0.1323    0.0461   -2.8713  0.0041  -0.2226  -0.0420\n",
       "V4_2          1.1349    0.1346    8.4320  0.0000   0.8711   1.3987\n",
       "V5_2         -0.6339    0.1073   -5.9063  0.0000  -0.8443  -0.4236\n",
       "=================================================================\n",
       "\n",
       "\"\"\""
      ]
     },
     "execution_count": 90,
     "metadata": {},
     "output_type": "execute_result"
    }
   ],
   "source": [
    "log1 = sm.Logit(y_train, X_train[['intercept','V1_3', 'V3', 'V4_2', 'V5_2']])\n",
    "logr1 = log1.fit()\n",
    "logr1.summary2()"
   ]
  },
  {
   "cell_type": "markdown",
   "metadata": {},
   "source": [
    "Make a multivariate logistic regression model. \n",
    "Since the data are sparse, will want to start with weighted logistic regression.\n",
    "Can't find a way to do that with the statsmodel version, so will use sklearn instead.\n",
    "The `ColumnTransformer` step is to scale V3 to mean 1, sd 0 for use an SVM and other scale-dependent models.  \n",
    "What I'm doing here is preliminary feature selection -- just keeping the variables that were significant in the univariate analysis. For the categorical variables, only the dummy variable that was significant is retained, since all the other dummies are effectively equivalent.  \n",
    "For example, for V5, only the dummy variable for the value `2` had a significant regression coefficient. I dropped the dummy variables for `1`, `3`, and `4`. The comparison this is making is `V5 = 2` versus `V5 = 1, 3, or 4`."
   ]
  },
  {
   "cell_type": "code",
   "execution_count": 92,
   "metadata": {},
   "outputs": [
    {
     "data": {
      "text/html": [
       "<div>\n",
       "<style scoped>\n",
       "    .dataframe tbody tr th:only-of-type {\n",
       "        vertical-align: middle;\n",
       "    }\n",
       "\n",
       "    .dataframe tbody tr th {\n",
       "        vertical-align: top;\n",
       "    }\n",
       "\n",
       "    .dataframe thead th {\n",
       "        text-align: right;\n",
       "    }\n",
       "</style>\n",
       "<table border=\"1\" class=\"dataframe\">\n",
       "  <thead>\n",
       "    <tr style=\"text-align: right;\">\n",
       "      <th></th>\n",
       "      <th>V1_3</th>\n",
       "      <th>V3</th>\n",
       "      <th>V4_2</th>\n",
       "      <th>V5_2</th>\n",
       "    </tr>\n",
       "  </thead>\n",
       "  <tbody>\n",
       "    <tr>\n",
       "      <th>42450</th>\n",
       "      <td>1</td>\n",
       "      <td>-0.732194</td>\n",
       "      <td>1</td>\n",
       "      <td>1</td>\n",
       "    </tr>\n",
       "    <tr>\n",
       "      <th>39436</th>\n",
       "      <td>0</td>\n",
       "      <td>-0.385883</td>\n",
       "      <td>1</td>\n",
       "      <td>0</td>\n",
       "    </tr>\n",
       "    <tr>\n",
       "      <th>49424</th>\n",
       "      <td>0</td>\n",
       "      <td>-0.126150</td>\n",
       "      <td>0</td>\n",
       "      <td>0</td>\n",
       "    </tr>\n",
       "    <tr>\n",
       "      <th>17107</th>\n",
       "      <td>0</td>\n",
       "      <td>0.133583</td>\n",
       "      <td>1</td>\n",
       "      <td>0</td>\n",
       "    </tr>\n",
       "    <tr>\n",
       "      <th>56521</th>\n",
       "      <td>0</td>\n",
       "      <td>0.220161</td>\n",
       "      <td>1</td>\n",
       "      <td>1</td>\n",
       "    </tr>\n",
       "  </tbody>\n",
       "</table>\n",
       "</div>"
      ],
      "text/plain": [
       "       V1_3        V3  V4_2  V5_2\n",
       "42450     1 -0.732194     1     1\n",
       "39436     0 -0.385883     1     0\n",
       "49424     0 -0.126150     0     0\n",
       "17107     0  0.133583     1     0\n",
       "56521     0  0.220161     1     1"
      ]
     },
     "metadata": {},
     "output_type": "display_data"
    },
    {
     "data": {
      "text/plain": [
       "array([[-0.73179378,  1.        ,  1.        ,  1.        ],\n",
       "       [-0.38584589,  0.        ,  1.        ,  0.        ],\n",
       "       [-0.12638507,  0.        ,  0.        ,  0.        ],\n",
       "       [ 0.13307586,  0.        ,  1.        ,  0.        ],\n",
       "       [ 0.21956282,  0.        ,  1.        ,  1.        ]])"
      ]
     },
     "metadata": {},
     "output_type": "display_data"
    },
    {
     "data": {
      "text/html": [
       "<div>\n",
       "<style scoped>\n",
       "    .dataframe tbody tr th:only-of-type {\n",
       "        vertical-align: middle;\n",
       "    }\n",
       "\n",
       "    .dataframe tbody tr th {\n",
       "        vertical-align: top;\n",
       "    }\n",
       "\n",
       "    .dataframe thead th {\n",
       "        text-align: right;\n",
       "    }\n",
       "</style>\n",
       "<table border=\"1\" class=\"dataframe\">\n",
       "  <thead>\n",
       "    <tr style=\"text-align: right;\">\n",
       "      <th></th>\n",
       "      <th>V1_3</th>\n",
       "      <th>V3</th>\n",
       "      <th>V4_2</th>\n",
       "      <th>V5_2</th>\n",
       "    </tr>\n",
       "  </thead>\n",
       "  <tbody>\n",
       "    <tr>\n",
       "      <th>51895</th>\n",
       "      <td>0</td>\n",
       "      <td>0.220161</td>\n",
       "      <td>0</td>\n",
       "      <td>1</td>\n",
       "    </tr>\n",
       "    <tr>\n",
       "      <th>51955</th>\n",
       "      <td>1</td>\n",
       "      <td>0.653050</td>\n",
       "      <td>1</td>\n",
       "      <td>0</td>\n",
       "    </tr>\n",
       "    <tr>\n",
       "      <th>11131</th>\n",
       "      <td>0</td>\n",
       "      <td>-0.385883</td>\n",
       "      <td>1</td>\n",
       "      <td>0</td>\n",
       "    </tr>\n",
       "    <tr>\n",
       "      <th>56386</th>\n",
       "      <td>0</td>\n",
       "      <td>-0.299306</td>\n",
       "      <td>1</td>\n",
       "      <td>0</td>\n",
       "    </tr>\n",
       "    <tr>\n",
       "      <th>5865</th>\n",
       "      <td>0</td>\n",
       "      <td>-0.039572</td>\n",
       "      <td>1</td>\n",
       "      <td>1</td>\n",
       "    </tr>\n",
       "  </tbody>\n",
       "</table>\n",
       "</div>"
      ],
      "text/plain": [
       "       V1_3        V3  V4_2  V5_2\n",
       "51895     0  0.220161     0     1\n",
       "51955     1  0.653050     1     0\n",
       "11131     0 -0.385883     1     0\n",
       "56386     0 -0.299306     1     0\n",
       "5865      0 -0.039572     1     1"
      ]
     },
     "metadata": {},
     "output_type": "display_data"
    },
    {
     "data": {
      "text/plain": [
       "array([[ 0.22047253,  0.        ,  0.        ,  1.        ],\n",
       "       [ 0.65364963,  1.        ,  1.        ,  0.        ],\n",
       "       [-0.3859754 ,  0.        ,  1.        ,  0.        ],\n",
       "       [-0.29933997,  0.        ,  1.        ,  0.        ],\n",
       "       [-0.03943377,  0.        ,  1.        ,  1.        ]])"
      ]
     },
     "metadata": {},
     "output_type": "display_data"
    }
   ],
   "source": [
    "# just keep the variables that were singificant on univariate analysis\n",
    "X_train2 = X_train[['V1_3', 'V3', 'V4_2', 'V5_2']]\n",
    "X_test2 = X_test[['V1_3', 'V3', 'V4_2', 'V5_2']]\n",
    "# create a set with V3 scaled for SVM\n",
    "ct = ColumnTransformer([(\"std\", StandardScaler(), ['V3'])], remainder = 'passthrough')\n",
    "X_train3 = ct.fit_transform(X_train2)\n",
    "X_test3 = ct.fit_transform(X_test2)\n",
    "display(X_train2.head())\n",
    "display(X_train3[0:5,:])\n",
    "display(X_test2.head())\n",
    "display(X_test3[0:5,:])"
   ]
  },
  {
   "cell_type": "markdown",
   "metadata": {},
   "source": [
    "These two functions just return various scores for each model. The first gets the conventional scores (precision, recall, accuracy, area under the ROC) and the confusion matrix. The second returns values for the specific metrics Starbucks is interested in (NIR, IRR), using only customers predicted to receive a promotion."
   ]
  },
  {
   "cell_type": "code",
   "execution_count": 74,
   "metadata": {},
   "outputs": [],
   "source": [
    "def get_scores(y_test, y_pred):\n",
    "    '''\n",
    "    get scores for the fitted models\n",
    "    inputs:\n",
    "    y_test = true labels\n",
    "    y_preds = model predictions\n",
    "    \n",
    "    returns: none\n",
    "    '''\n",
    "    \n",
    "    cm = confusion_matrix(y_test, y_pred)\n",
    "    prec = precision_score(y_test, y_pred)\n",
    "    rec = recall_score(y_test, y_pred)\n",
    "    acc = accuracy_score(y_test, y_pred)\n",
    "    auc = roc_auc_score(y_test, y_pred)\n",
    "    print('confusion matrix:\\n', cm)\n",
    "    print('precision: {:.5f}; recall: {:.5f}, accuracy: {:.5f}'.format(prec, rec, acc))\n",
    "    print('roc_auc: {:.5f}'.format(auc))\n",
    "    \n",
    "    return"
   ]
  },
  {
   "cell_type": "code",
   "execution_count": 75,
   "metadata": {},
   "outputs": [],
   "source": [
    "def score2(df, promo_pred_col = 'promo_cd'):\n",
    "    '''\n",
    "    Calculate the scoring metrics defined by Starbucks\n",
    "    input:\n",
    "    df = dataframe of features **only** for those we predicted should receive a promotion\n",
    "    promo_pred_col : the column categorizing whether or not the subject received a promotion \n",
    "                     instead of using the original \"Promotion\", I used its binary recode (0 = No, 1 = Yes)\n",
    "    '''\n",
    "    n_treat       = df.loc[df[promo_pred_col] == 1,:].shape[0]\n",
    "    n_control     = df.loc[df[promo_pred_col] == 0,:].shape[0]\n",
    "    n_treat_purch = df.loc[df[promo_pred_col] == 1, 'purchase'].sum()\n",
    "    n_ctrl_purch  = df.loc[df[promo_pred_col] == 0, 'purchase'].sum()\n",
    "    irr = n_treat_purch / n_treat - n_ctrl_purch / n_control\n",
    "    nir = 10 * n_treat_purch - 0.15 * n_treat - 10 * n_ctrl_purch\n",
    "    print('IRR: {:.5f}; NIR: {:.5f}'.format(irr, nir))\n",
    "    \n",
    "    return"
   ]
  },
  {
   "cell_type": "markdown",
   "metadata": {},
   "source": [
    "`class_weight = balanced` will weight the samples inversely proportionally to their prevalence in the data. So here, `promo+purch = 1` will be heavily weighted due to its rarity. Helps to account for the imbalance in the data."
   ]
  },
  {
   "cell_type": "markdown",
   "metadata": {},
   "source": [
    "Here's an example of what happens if we don't use a strategy like class weights or over/under-sampling to account for the imbalance. I did this the first go-round with these data."
   ]
  },
  {
   "cell_type": "code",
   "execution_count": 93,
   "metadata": {},
   "outputs": [
    {
     "name": "stdout",
     "output_type": "stream",
     "text": [
      "confusion matrix:\n",
      " [[27910     0]\n",
      " [  240     0]]\n",
      "precision: 0.00000; recall: 0.00000, accuracy: 0.99147\n",
      "roc_auc: 0.50000\n"
     ]
    },
    {
     "name": "stderr",
     "output_type": "stream",
     "text": [
      "/home/umahp/data_science/dsenv/lib/python3.8/site-packages/sklearn/metrics/_classification.py:1248: UndefinedMetricWarning: Precision is ill-defined and being set to 0.0 due to no predicted samples. Use `zero_division` parameter to control this behavior.\n",
      "  _warn_prf(average, modifier, msg_start, len(result))\n"
     ]
    }
   ],
   "source": [
    "log_mod_unwt = LogisticRegression(max_iter = 200)\n",
    "log_mod_unwt.fit(X_train2, y_train)\n",
    "y_pred_unwt = log_mod_unwt.predict(X_test2)\n",
    "get_scores(y_test, y_pred_unwt)"
   ]
  },
  {
   "cell_type": "markdown",
   "metadata": {},
   "source": [
    "With an imbalanced dataset like this, the classic mistake (which I made) would be to look only at the accuracy, or at the p-value for the regression coefficients, and think the model is great. However, as you can see, it completely ignores the minority class. Since that's the class we're interested in, the model is effective useless. We can't even calculate NIR & IRR because we haven't predicted that **anyone** should receive a promotion.\n",
    "\n",
    "So now let's see what it looks like when we turn on the class weighting:"
   ]
  },
  {
   "cell_type": "code",
   "execution_count": 94,
   "metadata": {},
   "outputs": [
    {
     "name": "stdout",
     "output_type": "stream",
     "text": [
      "confusion matrix:\n",
      " [[15322 12588]\n",
      " [   64   176]]\n",
      "precision: 0.01379; recall: 0.73333, accuracy: 0.55055\n",
      "roc_auc: 0.64116\n"
     ]
    }
   ],
   "source": [
    "log_mod = LogisticRegression(max_iter = 200, class_weight = 'balanced')\n",
    "log_mod.fit(X_train2, y_train)\n",
    "y_pred1 = log_mod.predict(X_test2)\n",
    "get_scores(y_test, y_pred1)"
   ]
  },
  {
   "cell_type": "code",
   "execution_count": 96,
   "metadata": {},
   "outputs": [],
   "source": [
    "# mask X_test for only those predicted to receive a promotion\n",
    "score_df = X_test.iloc[np.where(y_pred1 == 1)]"
   ]
  },
  {
   "cell_type": "code",
   "execution_count": 97,
   "metadata": {},
   "outputs": [
    {
     "name": "stdout",
     "output_type": "stream",
     "text": [
      "IRR: 0.02040; NIR: 343.45000\n"
     ]
    }
   ],
   "source": [
    "score2(score_df)"
   ]
  },
  {
   "cell_type": "markdown",
   "metadata": {},
   "source": [
    "There is lots of mis-classification, with tons of false positives, but at least the model is predicting some customers in the promotion group. Let's see if we can do better."
   ]
  },
  {
   "cell_type": "markdown",
   "metadata": {},
   "source": [
    "See if interaction terms improve the model."
   ]
  },
  {
   "cell_type": "code",
   "execution_count": 98,
   "metadata": {},
   "outputs": [],
   "source": [
    "X_trn_intr = X_train2.copy()\n",
    "X_trn_intr['V13xV3'] = X_trn_intr['V1_3'] * X_trn_intr['V3']\n",
    "X_trn_intr['V13x42'] = X_trn_intr['V1_3'] * X_trn_intr['V4_2']\n",
    "X_trn_intr['V13x52'] = X_trn_intr['V1_3'] * X_trn_intr['V5_2']\n",
    "X_trn_intr['V3x42'] = X_trn_intr['V3'] * X_trn_intr['V4_2']\n",
    "X_trn_intr['V3x52'] = X_trn_intr['V3'] * X_trn_intr['V5_2']\n",
    "X_trn_intr['V42x52'] = X_trn_intr['V4_2'] * X_trn_intr['V5_2']"
   ]
  },
  {
   "cell_type": "code",
   "execution_count": 99,
   "metadata": {},
   "outputs": [],
   "source": [
    "X_tst_intr = X_test2.copy()\n",
    "X_tst_intr['V13xV3'] = X_tst_intr['V1_3'] * X_tst_intr['V3']\n",
    "X_tst_intr['V13x42'] = X_tst_intr['V1_3'] * X_tst_intr['V4_2']\n",
    "X_tst_intr['V13x52'] = X_tst_intr['V1_3'] * X_tst_intr['V5_2']\n",
    "X_tst_intr['V3x42'] = X_tst_intr['V3'] * X_tst_intr['V4_2']\n",
    "X_tst_intr['V3x52'] = X_tst_intr['V3'] * X_tst_intr['V5_2']\n",
    "X_tst_intr['V42x52'] = X_tst_intr['V4_2'] * X_tst_intr['V5_2']"
   ]
  },
  {
   "cell_type": "code",
   "execution_count": 100,
   "metadata": {},
   "outputs": [
    {
     "data": {
      "text/html": [
       "<div>\n",
       "<style scoped>\n",
       "    .dataframe tbody tr th:only-of-type {\n",
       "        vertical-align: middle;\n",
       "    }\n",
       "\n",
       "    .dataframe tbody tr th {\n",
       "        vertical-align: top;\n",
       "    }\n",
       "\n",
       "    .dataframe thead th {\n",
       "        text-align: right;\n",
       "    }\n",
       "</style>\n",
       "<table border=\"1\" class=\"dataframe\">\n",
       "  <thead>\n",
       "    <tr style=\"text-align: right;\">\n",
       "      <th></th>\n",
       "      <th>V1_3</th>\n",
       "      <th>V3</th>\n",
       "      <th>V4_2</th>\n",
       "      <th>V5_2</th>\n",
       "      <th>V13xV3</th>\n",
       "      <th>V13x42</th>\n",
       "      <th>V13x52</th>\n",
       "      <th>V3x42</th>\n",
       "      <th>V3x52</th>\n",
       "      <th>V42x52</th>\n",
       "    </tr>\n",
       "  </thead>\n",
       "  <tbody>\n",
       "    <tr>\n",
       "      <th>42450</th>\n",
       "      <td>1</td>\n",
       "      <td>-0.732194</td>\n",
       "      <td>1</td>\n",
       "      <td>1</td>\n",
       "      <td>-0.732194</td>\n",
       "      <td>1</td>\n",
       "      <td>1</td>\n",
       "      <td>-0.732194</td>\n",
       "      <td>-0.732194</td>\n",
       "      <td>1</td>\n",
       "    </tr>\n",
       "    <tr>\n",
       "      <th>39436</th>\n",
       "      <td>0</td>\n",
       "      <td>-0.385883</td>\n",
       "      <td>1</td>\n",
       "      <td>0</td>\n",
       "      <td>-0.000000</td>\n",
       "      <td>0</td>\n",
       "      <td>0</td>\n",
       "      <td>-0.385883</td>\n",
       "      <td>-0.000000</td>\n",
       "      <td>0</td>\n",
       "    </tr>\n",
       "    <tr>\n",
       "      <th>49424</th>\n",
       "      <td>0</td>\n",
       "      <td>-0.126150</td>\n",
       "      <td>0</td>\n",
       "      <td>0</td>\n",
       "      <td>-0.000000</td>\n",
       "      <td>0</td>\n",
       "      <td>0</td>\n",
       "      <td>-0.000000</td>\n",
       "      <td>-0.000000</td>\n",
       "      <td>0</td>\n",
       "    </tr>\n",
       "    <tr>\n",
       "      <th>17107</th>\n",
       "      <td>0</td>\n",
       "      <td>0.133583</td>\n",
       "      <td>1</td>\n",
       "      <td>0</td>\n",
       "      <td>0.000000</td>\n",
       "      <td>0</td>\n",
       "      <td>0</td>\n",
       "      <td>0.133583</td>\n",
       "      <td>0.000000</td>\n",
       "      <td>0</td>\n",
       "    </tr>\n",
       "    <tr>\n",
       "      <th>56521</th>\n",
       "      <td>0</td>\n",
       "      <td>0.220161</td>\n",
       "      <td>1</td>\n",
       "      <td>1</td>\n",
       "      <td>0.000000</td>\n",
       "      <td>0</td>\n",
       "      <td>0</td>\n",
       "      <td>0.220161</td>\n",
       "      <td>0.220161</td>\n",
       "      <td>1</td>\n",
       "    </tr>\n",
       "  </tbody>\n",
       "</table>\n",
       "</div>"
      ],
      "text/plain": [
       "       V1_3        V3  V4_2  V5_2    V13xV3  V13x42  V13x52     V3x42  \\\n",
       "42450     1 -0.732194     1     1 -0.732194       1       1 -0.732194   \n",
       "39436     0 -0.385883     1     0 -0.000000       0       0 -0.385883   \n",
       "49424     0 -0.126150     0     0 -0.000000       0       0 -0.000000   \n",
       "17107     0  0.133583     1     0  0.000000       0       0  0.133583   \n",
       "56521     0  0.220161     1     1  0.000000       0       0  0.220161   \n",
       "\n",
       "          V3x52  V42x52  \n",
       "42450 -0.732194       1  \n",
       "39436 -0.000000       0  \n",
       "49424 -0.000000       0  \n",
       "17107  0.000000       0  \n",
       "56521  0.220161       1  "
      ]
     },
     "metadata": {},
     "output_type": "display_data"
    },
    {
     "data": {
      "text/html": [
       "<div>\n",
       "<style scoped>\n",
       "    .dataframe tbody tr th:only-of-type {\n",
       "        vertical-align: middle;\n",
       "    }\n",
       "\n",
       "    .dataframe tbody tr th {\n",
       "        vertical-align: top;\n",
       "    }\n",
       "\n",
       "    .dataframe thead th {\n",
       "        text-align: right;\n",
       "    }\n",
       "</style>\n",
       "<table border=\"1\" class=\"dataframe\">\n",
       "  <thead>\n",
       "    <tr style=\"text-align: right;\">\n",
       "      <th></th>\n",
       "      <th>V1_3</th>\n",
       "      <th>V3</th>\n",
       "      <th>V4_2</th>\n",
       "      <th>V5_2</th>\n",
       "      <th>V13xV3</th>\n",
       "      <th>V13x42</th>\n",
       "      <th>V13x52</th>\n",
       "      <th>V3x42</th>\n",
       "      <th>V3x52</th>\n",
       "      <th>V42x52</th>\n",
       "    </tr>\n",
       "  </thead>\n",
       "  <tbody>\n",
       "    <tr>\n",
       "      <th>51895</th>\n",
       "      <td>0</td>\n",
       "      <td>0.220161</td>\n",
       "      <td>0</td>\n",
       "      <td>1</td>\n",
       "      <td>0.00000</td>\n",
       "      <td>0</td>\n",
       "      <td>0</td>\n",
       "      <td>0.000000</td>\n",
       "      <td>0.220161</td>\n",
       "      <td>0</td>\n",
       "    </tr>\n",
       "    <tr>\n",
       "      <th>51955</th>\n",
       "      <td>1</td>\n",
       "      <td>0.653050</td>\n",
       "      <td>1</td>\n",
       "      <td>0</td>\n",
       "      <td>0.65305</td>\n",
       "      <td>1</td>\n",
       "      <td>0</td>\n",
       "      <td>0.653050</td>\n",
       "      <td>0.000000</td>\n",
       "      <td>0</td>\n",
       "    </tr>\n",
       "    <tr>\n",
       "      <th>11131</th>\n",
       "      <td>0</td>\n",
       "      <td>-0.385883</td>\n",
       "      <td>1</td>\n",
       "      <td>0</td>\n",
       "      <td>-0.00000</td>\n",
       "      <td>0</td>\n",
       "      <td>0</td>\n",
       "      <td>-0.385883</td>\n",
       "      <td>-0.000000</td>\n",
       "      <td>0</td>\n",
       "    </tr>\n",
       "    <tr>\n",
       "      <th>56386</th>\n",
       "      <td>0</td>\n",
       "      <td>-0.299306</td>\n",
       "      <td>1</td>\n",
       "      <td>0</td>\n",
       "      <td>-0.00000</td>\n",
       "      <td>0</td>\n",
       "      <td>0</td>\n",
       "      <td>-0.299306</td>\n",
       "      <td>-0.000000</td>\n",
       "      <td>0</td>\n",
       "    </tr>\n",
       "    <tr>\n",
       "      <th>5865</th>\n",
       "      <td>0</td>\n",
       "      <td>-0.039572</td>\n",
       "      <td>1</td>\n",
       "      <td>1</td>\n",
       "      <td>-0.00000</td>\n",
       "      <td>0</td>\n",
       "      <td>0</td>\n",
       "      <td>-0.039572</td>\n",
       "      <td>-0.039572</td>\n",
       "      <td>1</td>\n",
       "    </tr>\n",
       "  </tbody>\n",
       "</table>\n",
       "</div>"
      ],
      "text/plain": [
       "       V1_3        V3  V4_2  V5_2   V13xV3  V13x42  V13x52     V3x42  \\\n",
       "51895     0  0.220161     0     1  0.00000       0       0  0.000000   \n",
       "51955     1  0.653050     1     0  0.65305       1       0  0.653050   \n",
       "11131     0 -0.385883     1     0 -0.00000       0       0 -0.385883   \n",
       "56386     0 -0.299306     1     0 -0.00000       0       0 -0.299306   \n",
       "5865      0 -0.039572     1     1 -0.00000       0       0 -0.039572   \n",
       "\n",
       "          V3x52  V42x52  \n",
       "51895  0.220161       0  \n",
       "51955  0.000000       0  \n",
       "11131 -0.000000       0  \n",
       "56386 -0.000000       0  \n",
       "5865  -0.039572       1  "
      ]
     },
     "metadata": {},
     "output_type": "display_data"
    }
   ],
   "source": [
    "display(X_trn_intr.head())\n",
    "display(X_tst_intr.head())"
   ]
  },
  {
   "cell_type": "code",
   "execution_count": 101,
   "metadata": {},
   "outputs": [
    {
     "name": "stdout",
     "output_type": "stream",
     "text": [
      "confusion matrix:\n",
      " [[14849 13061]\n",
      " [   59   181]]\n",
      "precision: 0.01367; recall: 0.75417, accuracy: 0.53393\n",
      "roc_auc: 0.64310\n",
      "IRR: 0.02022; NIR: 346.25000\n"
     ]
    }
   ],
   "source": [
    "# model including the 6 interaction terms\n",
    "log_mod2 = LogisticRegression(max_iter = 200, class_weight = 'balanced')\n",
    "log_mod2.fit(X_trn_intr, y_train)\n",
    "y_pred2 = log_mod2.predict(X_tst_intr)\n",
    "get_scores(y_test, y_pred2)\n",
    "score_df = X_test.iloc[np.where(y_pred2 == 1)] \n",
    "score2(score_df)"
   ]
  },
  {
   "cell_type": "markdown",
   "metadata": {},
   "source": [
    "IRR is slightly worse, NIR is slightly better. Precision is a little worse. Will not use the interactions since minimal contribution and may lead to overfitting since adds 6 more variables.\n",
    "\n",
    "Try cross-validation tuning of the C-parameter. Will use model without interactions. Use precision as the score metric to see if can minimize the false positives."
   ]
  },
  {
   "cell_type": "code",
   "execution_count": 102,
   "metadata": {},
   "outputs": [
    {
     "name": "stdout",
     "output_type": "stream",
     "text": [
      "LogRegCV optimal C: [0.00077426]\n"
     ]
    }
   ],
   "source": [
    "log_modcv = LogisticRegressionCV(max_iter = 200, scoring = 'precision', class_weight='balanced', n_jobs = -1)\n",
    "log_modcv.fit(X_train2, y_train)\n",
    "y_predlogcv = log_modcv.predict(X_test2)\n",
    "print('LogRegCV optimal C:', log_modcv.C_)"
   ]
  },
  {
   "cell_type": "code",
   "execution_count": 103,
   "metadata": {},
   "outputs": [
    {
     "name": "stdout",
     "output_type": "stream",
     "text": [
      "confusion matrix:\n",
      " [[14887 13023]\n",
      " [   62   178]]\n",
      "precision: 0.01348; recall: 0.74167, accuracy: 0.53517\n",
      "roc_auc: 0.63753\n",
      "IRR: 0.01963; NIR: 307.90000\n"
     ]
    }
   ],
   "source": [
    "get_scores(y_test, y_predlogcv)\n",
    "score_df = X_test.iloc[np.where(y_predlogcv == 1)] \n",
    "score2(score_df)"
   ]
  },
  {
   "cell_type": "markdown",
   "metadata": {},
   "source": [
    "Worse than the un-tuned model. "
   ]
  },
  {
   "cell_type": "markdown",
   "metadata": {},
   "source": [
    "Try a machine-learning model. Will start with SVM.  \n",
    "Will use the data without the interactions since they didn't seem to help.\n",
    "Again, will use `balanced` class weight to adjust for the imbalance.\n",
    "I did a lot of manual tuning on the parameters and what's below was my best for `C` and `gamma`. "
   ]
  },
  {
   "cell_type": "code",
   "execution_count": 104,
   "metadata": {},
   "outputs": [],
   "source": [
    "# in exploratory analyses, these were the best manually tuned params for SVC\n",
    "clf = SVC(class_weight='balanced', C=5, gamma=2)\n",
    "clf.fit(X_train3, y_train) # use the set with V3 normalized\n",
    "y_pred3 = clf.predict(X_test3) # normalized V3 again"
   ]
  },
  {
   "cell_type": "code",
   "execution_count": 105,
   "metadata": {},
   "outputs": [
    {
     "name": "stdout",
     "output_type": "stream",
     "text": [
      "confusion matrix:\n",
      " [[14102 13808]\n",
      " [   60   180]]\n",
      "precision: 0.01287; recall: 0.75000, accuracy: 0.50735\n",
      "roc_auc: 0.62763\n",
      "IRR: 0.01849; NIR: 247.75000\n"
     ]
    }
   ],
   "source": [
    "get_scores(y_test, y_pred3)\n",
    "score_df = X_test.iloc[np.where(y_pred3 == 1)] \n",
    "score2(score_df)"
   ]
  },
  {
   "cell_type": "markdown",
   "metadata": {},
   "source": [
    "This is slightly worse than logistic regression, although hyperparameters could probably be more finely tuned.\n",
    "\n",
    "Will try some tuning with `GridSearchCV`.  \n",
    "The narrow range here is after trying other experiments with wider ranges that didn't improve performance."
   ]
  },
  {
   "cell_type": "code",
   "execution_count": 106,
   "metadata": {},
   "outputs": [
    {
     "name": "stdout",
     "output_type": "stream",
     "text": [
      "Fitting 3 folds for each of 16 candidates, totalling 48 fits\n",
      "\n",
      "Best GridSearch Parameters: {'C': 7, 'class_weight': 'balanced', 'gamma': 1}\n"
     ]
    }
   ],
   "source": [
    "# best manually tuned params were C=5, gamma=2. Initially tried wide-ranging grid search \n",
    "# but didn't reaveal anything better going far outside these #s so sticking close\n",
    "clf = SVC()\n",
    "parameters = [{'C': [2, 3, 5, 7],\n",
    "               'gamma': [1, 1.5, 2, 2.5],\n",
    "               'class_weight':  ['balanced']\n",
    "              }]\n",
    "\n",
    "gscv = GridSearchCV(clf, param_grid=parameters, cv = 3, scoring = 'precision', verbose = 2, n_jobs = -1)\n",
    "gscv.fit(X_train2, y_train)\n",
    "y_predgs = gscv.predict(X_test2)\n",
    "print('\\nBest GridSearch Parameters:', gscv.best_params_)"
   ]
  },
  {
   "cell_type": "code",
   "execution_count": 107,
   "metadata": {},
   "outputs": [
    {
     "name": "stdout",
     "output_type": "stream",
     "text": [
      "confusion matrix:\n",
      " [[14292 13618]\n",
      " [   63   177]]\n",
      "precision: 0.01283; recall: 0.73750, accuracy: 0.51400\n",
      "roc_auc: 0.62479\n",
      "IRR: 0.01896; NIR: 279.75000\n"
     ]
    }
   ],
   "source": [
    "get_scores(y_test, y_predgs)\n",
    "score_df = X_test.iloc[np.where(y_predgs == 1)] \n",
    "score2(score_df)"
   ]
  },
  {
   "cell_type": "markdown",
   "metadata": {},
   "source": [
    "Optimizing on precision did improve IRR & NIR. But still not as good as the logistic regression model. It did select the highest C and lowest gamma, tho, so let's expand athose ranges a little."
   ]
  },
  {
   "cell_type": "code",
   "execution_count": 109,
   "metadata": {},
   "outputs": [
    {
     "name": "stdout",
     "output_type": "stream",
     "text": [
      "n_iterations: 3\n",
      "n_required_iterations: 3\n",
      "n_possible_iterations: 3\n",
      "min_resources_: 6264\n",
      "max_resources_: 56384\n",
      "aggressive_elimination: False\n",
      "factor: 3\n",
      "----------\n",
      "iter: 0\n",
      "n_candidates: 20\n",
      "n_resources: 6264\n",
      "Fitting 3 folds for each of 20 candidates, totalling 60 fits\n",
      "----------\n",
      "iter: 1\n",
      "n_candidates: 7\n",
      "n_resources: 18792\n",
      "Fitting 3 folds for each of 7 candidates, totalling 21 fits\n",
      "----------\n",
      "iter: 2\n",
      "n_candidates: 3\n",
      "n_resources: 56376\n",
      "Fitting 3 folds for each of 3 candidates, totalling 9 fits\n",
      "\n",
      "Best GridSearch Parameters: {'C': 16, 'class_weight': 'balanced', 'gamma': 0.25}\n"
     ]
    }
   ],
   "source": [
    "clf = SVC()\n",
    "parameters = [{'C': [8, 16, 32, 64],\n",
    "               'gamma': [0.1, 0.25, 0.75, 0.9, 0.95],\n",
    "               'class_weight':  ['balanced']\n",
    "              }]\n",
    "#try halving grid search to speed up\n",
    "gscv = HalvingGridSearchCV(clf, param_grid=parameters, cv = 3, scoring = 'precision', verbose = 2, n_jobs = -1)\n",
    "gscv.fit(X_train2, y_train)\n",
    "y_predgs = gscv.predict(X_test2)\n",
    "print('\\nBest GridSearch Parameters:', gscv.best_params_)"
   ]
  },
  {
   "cell_type": "code",
   "execution_count": 110,
   "metadata": {},
   "outputs": [
    {
     "name": "stdout",
     "output_type": "stream",
     "text": [
      "confusion matrix:\n",
      " [[13198 14712]\n",
      " [   51   189]]\n",
      "precision: 0.01268; recall: 0.78750, accuracy: 0.47556\n",
      "roc_auc: 0.63019\n",
      "IRR: 0.01826; NIR: 242.50000\n"
     ]
    }
   ],
   "source": [
    "get_scores(y_test, y_predgs)\n",
    "score_df = X_test.iloc[np.where(y_predgs == 1)] \n",
    "score2(score_df)"
   ]
  },
  {
   "cell_type": "markdown",
   "metadata": {},
   "source": [
    "That found values in the middle of the ranges, but precision on test set is worse. Logistic regression is still in the lead."
   ]
  },
  {
   "cell_type": "markdown",
   "metadata": {},
   "source": [
    "Try an XGBoost algorithm. Here `scale_pos_weight` is the weight for the \"positive\" samples (`promo+purch = 1`).\n",
    "Will make that the inverse of its prevalence."
   ]
  },
  {
   "cell_type": "code",
   "execution_count": 111,
   "metadata": {},
   "outputs": [
    {
     "name": "stdout",
     "output_type": "stream",
     "text": [
      "xgb_wt:  117.24549237170596\n"
     ]
    }
   ],
   "source": [
    "xgb_wt = train_data.shape[0]/train_data['promo+purch'].sum()\n",
    "print('xgb_wt: ', xgb_wt)"
   ]
  },
  {
   "cell_type": "code",
   "execution_count": 112,
   "metadata": {},
   "outputs": [
    {
     "name": "stdout",
     "output_type": "stream",
     "text": [
      "confusion matrix:\n",
      " [[16739 11171]\n",
      " [   99   141]]\n",
      "precision: 0.01246; recall: 0.58750, accuracy: 0.59964\n",
      "roc_auc: 0.59362\n",
      "IRR: 0.01787; NIR: 167.10000\n"
     ]
    }
   ],
   "source": [
    "# this doesn't have an option for precision, so using auc instead\n",
    "xgb = XGBClassifier(scale_pos_weight = xgb_wt, use_label_encoder = False, objective = 'binary:logistic',\\\n",
    "                    max_delta_step = 5, subsample = 0.5, eval_metric = 'auc')\n",
    "xgb.fit(X_train2, y_train)\n",
    "y_predxgb = xgb.predict(X_test2)\n",
    "get_scores(y_test, y_predxgb)\n",
    "score_df = X_test.iloc[np.where(y_predxgb == 1)] \n",
    "score2(score_df)"
   ]
  },
  {
   "cell_type": "markdown",
   "metadata": {},
   "source": [
    "Worse than logistic, and worse than the SVM due to more false negatives. But no tuning done.\n",
    "\n",
    "Try to tune XGBoost. Lots of parameters, may take some time..."
   ]
  },
  {
   "cell_type": "code",
   "execution_count": 120,
   "metadata": {},
   "outputs": [
    {
     "name": "stdout",
     "output_type": "stream",
     "text": [
      "n_iterations: 5\n",
      "n_required_iterations: 5\n",
      "n_possible_iterations: 5\n",
      "min_resources_: 696\n",
      "max_resources_: 56384\n",
      "aggressive_elimination: False\n",
      "factor: 3\n",
      "----------\n",
      "iter: 0\n",
      "n_candidates: 216\n",
      "n_resources: 696\n",
      "Fitting 3 folds for each of 216 candidates, totalling 648 fits\n",
      "----------\n",
      "iter: 1\n",
      "n_candidates: 72\n",
      "n_resources: 2088\n",
      "Fitting 3 folds for each of 72 candidates, totalling 216 fits\n",
      "----------\n",
      "iter: 2\n",
      "n_candidates: 24\n",
      "n_resources: 6264\n",
      "Fitting 3 folds for each of 24 candidates, totalling 72 fits\n",
      "----------\n",
      "iter: 3\n",
      "n_candidates: 8\n",
      "n_resources: 18792\n",
      "Fitting 3 folds for each of 8 candidates, totalling 24 fits\n",
      "----------\n",
      "iter: 4\n",
      "n_candidates: 3\n",
      "n_resources: 56376\n",
      "Fitting 3 folds for each of 3 candidates, totalling 9 fits\n",
      "\n",
      "Best GridSearch Parameters: {'eta': 0.1, 'gamma': 10, 'max_delta_step': 5, 'max_depth': 2, 'min_child_weight': 100, 'subsample': 1.0}\n"
     ]
    }
   ],
   "source": [
    "# for ref on hyperparams in XGB, see https://www.kaggle.com/prashant111/a-guide-on-xgboost-hyperparameters-tuning\n",
    "clf = XGBClassifier(scale_pos_weight = xgb_wt, use_label_encoder = False, objective = 'binary:logistic', \\\n",
    "                    eval_metric = 'auc')\n",
    "parameters = [{'eta': [0.05, 0.1, 0.3],\n",
    "               'gamma':  [0, 10],\n",
    "               'max_depth':  [2, 4, 6],\n",
    "               'min_child_weight':  [0, 10, 100],\n",
    "               'max_delta_step': [0, 5],\n",
    "               'subsample': [0.5, 1.0]\n",
    "              }]\n",
    "# try halving grid search here to speed things up\n",
    "gsxgb = HalvingGridSearchCV(clf, param_grid = parameters, cv = 3, scoring = 'roc_auc', verbose = 2, n_jobs = -1)\n",
    "gsxgb.fit(X_train2, y_train)\n",
    "y_predgsxgb = gsxgb.predict(X_test2)\n",
    "print('\\nBest GridSearch Parameters:', gsxgb.best_params_)"
   ]
  },
  {
   "cell_type": "code",
   "execution_count": 121,
   "metadata": {},
   "outputs": [
    {
     "name": "stdout",
     "output_type": "stream",
     "text": [
      "confusion matrix:\n",
      " [[14954 12956]\n",
      " [   65   175]]\n",
      "precision: 0.01333; recall: 0.72917, accuracy: 0.53744\n",
      "roc_auc: 0.63248\n",
      "IRR: 0.01925; NIR: 282.55000\n"
     ]
    }
   ],
   "source": [
    "get_scores(y_test, y_predgsxgb)\n",
    "score_df = X_test.iloc[np.where(y_predgsxgb == 1)] \n",
    "score2(score_df)"
   ]
  },
  {
   "cell_type": "markdown",
   "metadata": {},
   "source": [
    "Much improved from the naive model, but still not as good as logistic regression. It's possible I didn't tune perfectly, but the other consideration is the logistic model runs in seconds, vs hours to tune the XGBoost. "
   ]
  },
  {
   "cell_type": "code",
   "execution_count": 113,
   "metadata": {},
   "outputs": [],
   "source": [
    "def promotion_strategy(df):\n",
    "    '''\n",
    "    INPUT \n",
    "    df - a dataframe with *only* the columns V1 - V7 (same as train_data)\n",
    "\n",
    "    OUTPUT\n",
    "    promotion_df - np.array with the values\n",
    "                   'Yes' or 'No' related to whether or not an \n",
    "                   individual should recieve a promotion \n",
    "                   should be the length of df.shape[0]\n",
    "                \n",
    "    Ex:\n",
    "    INPUT: df\n",
    "    \n",
    "    V1\tV2\t  V3\tV4\tV5\tV6\tV7\n",
    "    2\t30\t-1.1\t1\t1\t3\t2\n",
    "    3\t32\t-0.6\t2\t3\t2\t2\n",
    "    2\t30\t0.13\t1\t1\t4\t2\n",
    "    \n",
    "    OUTPUT: promotion\n",
    "    \n",
    "    array(['Yes', 'Yes', 'No'])\n",
    "    indicating the first two users would recieve the promotion and \n",
    "    the last should not.\n",
    "    '''\n",
    "\n",
    "    # just make the dummy vars we need\n",
    "    df['V1_3'] = 0\n",
    "    df['V1_3'].loc[df['V1'] == 3] = 1\n",
    "    df['V5_2'] = 0\n",
    "    df['V5_2'].loc[df['V5'] == 2] = 1\n",
    "    df['V4_2'] = 0\n",
    "    df['V4_2'].loc[df['V4'] == 2] = 1\n",
    "    df['V5_2'] = 0\n",
    "    df['V5_2'].loc[df['V5'] == 2] = 1\n",
    "  \n",
    "    X_final = df[['V1_3', 'V3', 'V4_2', 'V5_2']] \n",
    "    display(X_final.head())\n",
    "    \n",
    "    # this is the 1st logistic regression model, which gave the best overall results\n",
    "    promo = log_mod.predict(X_final)\n",
    "    print('promo', promo.sum(), promo.shape[0])\n",
    "    promotion = np.where(promo == 1, 'Yes', 'No')\n",
    "        \n",
    "    return promotion"
   ]
  },
  {
   "cell_type": "code",
   "execution_count": 114,
   "metadata": {},
   "outputs": [
    {
     "name": "stderr",
     "output_type": "stream",
     "text": [
      "<ipython-input-113-a0d905fa069a>:28: SettingWithCopyWarning: \n",
      "A value is trying to be set on a copy of a slice from a DataFrame.\n",
      "Try using .loc[row_indexer,col_indexer] = value instead\n",
      "\n",
      "See the caveats in the documentation: https://pandas.pydata.org/pandas-docs/stable/user_guide/indexing.html#returning-a-view-versus-a-copy\n",
      "  df['V1_3'] = 0\n",
      "/home/umahp/data_science/dsenv/lib/python3.8/site-packages/pandas/core/indexing.py:1637: SettingWithCopyWarning: \n",
      "A value is trying to be set on a copy of a slice from a DataFrame\n",
      "\n",
      "See the caveats in the documentation: https://pandas.pydata.org/pandas-docs/stable/user_guide/indexing.html#returning-a-view-versus-a-copy\n",
      "  self._setitem_single_block(indexer, value, name)\n",
      "/home/umahp/data_science/dsenv/lib/python3.8/site-packages/pandas/core/indexing.py:692: SettingWithCopyWarning: \n",
      "A value is trying to be set on a copy of a slice from a DataFrame\n",
      "\n",
      "See the caveats in the documentation: https://pandas.pydata.org/pandas-docs/stable/user_guide/indexing.html#returning-a-view-versus-a-copy\n",
      "  iloc._setitem_with_indexer(indexer, value, self.name)\n",
      "<ipython-input-113-a0d905fa069a>:30: SettingWithCopyWarning: \n",
      "A value is trying to be set on a copy of a slice from a DataFrame.\n",
      "Try using .loc[row_indexer,col_indexer] = value instead\n",
      "\n",
      "See the caveats in the documentation: https://pandas.pydata.org/pandas-docs/stable/user_guide/indexing.html#returning-a-view-versus-a-copy\n",
      "  df['V5_2'] = 0\n",
      "/home/umahp/data_science/dsenv/lib/python3.8/site-packages/pandas/core/indexing.py:1637: SettingWithCopyWarning: \n",
      "A value is trying to be set on a copy of a slice from a DataFrame\n",
      "\n",
      "See the caveats in the documentation: https://pandas.pydata.org/pandas-docs/stable/user_guide/indexing.html#returning-a-view-versus-a-copy\n",
      "  self._setitem_single_block(indexer, value, name)\n",
      "/home/umahp/data_science/dsenv/lib/python3.8/site-packages/pandas/core/indexing.py:692: SettingWithCopyWarning: \n",
      "A value is trying to be set on a copy of a slice from a DataFrame\n",
      "\n",
      "See the caveats in the documentation: https://pandas.pydata.org/pandas-docs/stable/user_guide/indexing.html#returning-a-view-versus-a-copy\n",
      "  iloc._setitem_with_indexer(indexer, value, self.name)\n",
      "/home/umahp/data_science/dsenv/lib/python3.8/site-packages/pandas/core/indexing.py:1637: SettingWithCopyWarning: \n",
      "A value is trying to be set on a copy of a slice from a DataFrame\n",
      "\n",
      "See the caveats in the documentation: https://pandas.pydata.org/pandas-docs/stable/user_guide/indexing.html#returning-a-view-versus-a-copy\n",
      "  self._setitem_single_block(indexer, value, name)\n",
      "/home/umahp/data_science/dsenv/lib/python3.8/site-packages/pandas/core/indexing.py:1637: SettingWithCopyWarning: \n",
      "A value is trying to be set on a copy of a slice from a DataFrame\n",
      "\n",
      "See the caveats in the documentation: https://pandas.pydata.org/pandas-docs/stable/user_guide/indexing.html#returning-a-view-versus-a-copy\n",
      "  self._setitem_single_block(indexer, value, name)\n"
     ]
    },
    {
     "data": {
      "text/html": [
       "<div>\n",
       "<style scoped>\n",
       "    .dataframe tbody tr th:only-of-type {\n",
       "        vertical-align: middle;\n",
       "    }\n",
       "\n",
       "    .dataframe tbody tr th {\n",
       "        vertical-align: top;\n",
       "    }\n",
       "\n",
       "    .dataframe thead th {\n",
       "        text-align: right;\n",
       "    }\n",
       "</style>\n",
       "<table border=\"1\" class=\"dataframe\">\n",
       "  <thead>\n",
       "    <tr style=\"text-align: right;\">\n",
       "      <th></th>\n",
       "      <th>V1_3</th>\n",
       "      <th>V3</th>\n",
       "      <th>V4_2</th>\n",
       "      <th>V5_2</th>\n",
       "    </tr>\n",
       "  </thead>\n",
       "  <tbody>\n",
       "    <tr>\n",
       "      <th>0</th>\n",
       "      <td>0</td>\n",
       "      <td>1.172517</td>\n",
       "      <td>0</td>\n",
       "      <td>0</td>\n",
       "    </tr>\n",
       "    <tr>\n",
       "      <th>1</th>\n",
       "      <td>0</td>\n",
       "      <td>0.653050</td>\n",
       "      <td>1</td>\n",
       "      <td>1</td>\n",
       "    </tr>\n",
       "    <tr>\n",
       "      <th>2</th>\n",
       "      <td>0</td>\n",
       "      <td>-1.597972</td>\n",
       "      <td>1</td>\n",
       "      <td>0</td>\n",
       "    </tr>\n",
       "    <tr>\n",
       "      <th>3</th>\n",
       "      <td>0</td>\n",
       "      <td>-1.078506</td>\n",
       "      <td>1</td>\n",
       "      <td>0</td>\n",
       "    </tr>\n",
       "    <tr>\n",
       "      <th>4</th>\n",
       "      <td>0</td>\n",
       "      <td>0.479895</td>\n",
       "      <td>1</td>\n",
       "      <td>1</td>\n",
       "    </tr>\n",
       "  </tbody>\n",
       "</table>\n",
       "</div>"
      ],
      "text/plain": [
       "   V1_3        V3  V4_2  V5_2\n",
       "0     0  1.172517     0     0\n",
       "1     0  0.653050     1     1\n",
       "2     0 -1.597972     1     0\n",
       "3     0 -1.078506     1     0\n",
       "4     0  0.479895     1     1"
      ]
     },
     "metadata": {},
     "output_type": "display_data"
    },
    {
     "name": "stdout",
     "output_type": "stream",
     "text": [
      "promo 18784 41650\n",
      "Nice job!  See how well your strategy worked on our test data below!\n",
      "\n",
      "Your irr with this strategy is 0.0203.\n",
      "\n",
      "Your nir with this strategy is 475.60.\n",
      "We came up with a model with an irr of 0.0188 and an nir of 189.45 on the test set.\n",
      "\n",
      " How did you do?\n"
     ]
    },
    {
     "data": {
      "text/plain": [
       "(0.020253321162268925, 475.60000000000014)"
      ]
     },
     "execution_count": 114,
     "metadata": {},
     "output_type": "execute_result"
    }
   ],
   "source": [
    "# This will test your results, and provide you back some information \n",
    "# on how well your promotion_strategy will work in practice\n",
    "\n",
    "test_results(promotion_strategy)"
   ]
  },
  {
   "cell_type": "markdown",
   "metadata": {},
   "source": [
    "So looks like I at least did better than their benchmark, though I probably took waaaay longer to get this done than their interview candidates get..."
   ]
  }
 ],
 "metadata": {
  "kernelspec": {
   "display_name": "dsenv",
   "language": "python",
   "name": "dsenv"
  },
  "language_info": {
   "codemirror_mode": {
    "name": "ipython",
    "version": 3
   },
   "file_extension": ".py",
   "mimetype": "text/x-python",
   "name": "python",
   "nbconvert_exporter": "python",
   "pygments_lexer": "ipython3",
   "version": "3.8.5"
  }
 },
 "nbformat": 4,
 "nbformat_minor": 2
}
